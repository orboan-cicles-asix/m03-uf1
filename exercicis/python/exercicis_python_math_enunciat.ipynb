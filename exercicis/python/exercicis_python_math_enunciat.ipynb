{
 "cells": [
  {
   "cell_type": "markdown",
   "id": "efe714af",
   "metadata": {
    "colab_type": "text",
    "id": "view-in-github"
   },
   "source": [
    "<a href=\"https://colab.research.google.com/github/orboan-daw/m031/blob/main/uf1/exercicis/exercicis_python_math_enunciat.ipynb\" target=\"_parent\"><img src=\"https://colab.research.google.com/assets/colab-badge.svg\" alt=\"Open In Colab\"/></a>"
   ]
  },
  {
   "cell_type": "markdown",
   "id": "053eafa7-ff93-4e4c-8afd-53ad5f68a2f7",
   "metadata": {
    "id": "053eafa7-ff93-4e4c-8afd-53ad5f68a2f7"
   },
   "source": [
    "# Type: Exercici Pràctic\n",
    "# Programming Language: python\n",
    "# Tools: notebook, git\n",
    "# Contents: Introducció a la programació. Python Math.\n",
    "\n",
    "## Exercicis matemàtics simples amb python\n",
    "\n",
    "En aquests exercicis haureu de respondre les següents preguntes, substituint allà on posi //TODO per la vostra resposta."
   ]
  },
  {
   "cell_type": "markdown",
   "id": "e5f5d0f7-d99e-4b4a-adbb-2ac3e55b81fc",
   "metadata": {
    "id": "e5f5d0f7-d99e-4b4a-adbb-2ac3e55b81fc"
   },
   "source": [
    "### Exercici 1\n",
    "\n",
    "Donat un número enter positiu n > 1, fes una funció que retorni ``True`` si n és un número primer, o ``False`` en cas contrari."
   ]
  },
  {
   "cell_type": "code",
   "execution_count": null,
   "id": "ee5a4306-64d3-43e7-a1c3-25accb9a1559",
   "metadata": {
    "execution": {
     "iopub.execute_input": "2022-11-29T14:23:19.687636Z",
     "iopub.status.busy": "2022-11-29T14:23:19.687465Z",
     "iopub.status.idle": "2022-11-29T14:23:19.692397Z",
     "shell.execute_reply": "2022-11-29T14:23:19.691529Z",
     "shell.execute_reply.started": "2022-11-29T14:23:19.687621Z"
    },
    "id": "ee5a4306-64d3-43e7-a1c3-25accb9a1559",
    "outputId": "caace8db-adcf-4d56-bff5-088b3a0af972",
    "tags": []
   },
   "outputs": [
    {
     "name": "stdout",
     "output_type": "stream",
     "text": [
      "False\n"
     ]
    }
   ],
   "source": [
    "def isPrime(n):\n",
    "    #TODO\n",
    "\n",
    "# test\n",
    "#print(isPrime(49))"
   ]
  },
  {
   "cell_type": "markdown",
   "id": "52946b4a-9d69-4b86-81c1-e62e059306da",
   "metadata": {
    "id": "52946b4a-9d69-4b86-81c1-e62e059306da"
   },
   "source": [
    "### Exercici 2\n",
    "\n",
    "Donat un número enter N, fes una funció que imprimeixi per pantalla tots els números primers entre 2 i N (inclosos)."
   ]
  },
  {
   "cell_type": "code",
   "execution_count": null,
   "id": "56401b7b-ac62-4e83-bd7d-7a472b025a76",
   "metadata": {
    "execution": {
     "iopub.execute_input": "2022-11-29T14:24:25.031978Z",
     "iopub.status.busy": "2022-11-29T14:24:25.031757Z",
     "iopub.status.idle": "2022-11-29T14:24:25.036783Z",
     "shell.execute_reply": "2022-11-29T14:24:25.035978Z",
     "shell.execute_reply.started": "2022-11-29T14:24:25.031962Z"
    },
    "id": "56401b7b-ac62-4e83-bd7d-7a472b025a76",
    "outputId": "b03e4d8d-467c-445c-f453-07f76c9ad795",
    "tags": []
   },
   "outputs": [
    {
     "name": "stdout",
     "output_type": "stream",
     "text": [
      "2\n",
      "3\n",
      "5\n",
      "7\n",
      "11\n",
      "13\n",
      "17\n",
      "19\n",
      "23\n",
      "29\n",
      "31\n",
      "37\n"
     ]
    }
   ],
   "source": [
    "def isPrime(n):\n",
    "    #TODO\n",
    "    \n",
    "\n",
    "def printPrimes(N):\n",
    "    #TODO\n",
    "\n",
    "# test\n",
    "# printPrimes(37)"
   ]
  },
  {
   "cell_type": "markdown",
   "id": "bcab3088-07eb-4182-9bbf-acc7586c0871",
   "metadata": {
    "id": "bcab3088-07eb-4182-9bbf-acc7586c0871"
   },
   "source": [
    "### Exercici 3\n",
    "\n",
    "Donat un número enter UPPER, fes una funció que imprimeixi per pantallla tots els números entre 0 i UPPER que pertanyen a la seqüència de Fibonacci.\n",
    "\n",
    "> La seqüència de Fibonacci és un conjunt de nombres enters (els nombres de Fibonacci) que comença amb un zero, seguit d'un 1, després d'un altre 1 i després d'una sèrie de nombres que creixen constantment. La seqüència segueix la regla que cada nombre és igual a la suma dels dos nombres anteriors.\n"
   ]
  },
  {
   "cell_type": "code",
   "execution_count": null,
   "id": "6d22fb1c-7647-46e7-85b1-6eeda6970aeb",
   "metadata": {
    "execution": {
     "iopub.execute_input": "2022-11-29T14:41:23.233986Z",
     "iopub.status.busy": "2022-11-29T14:41:23.233811Z",
     "iopub.status.idle": "2022-11-29T14:41:23.239318Z",
     "shell.execute_reply": "2022-11-29T14:41:23.238493Z",
     "shell.execute_reply.started": "2022-11-29T14:41:23.233970Z"
    },
    "id": "6d22fb1c-7647-46e7-85b1-6eeda6970aeb",
    "outputId": "c5fe5dc6-94a4-4be4-a2a3-0e93e875f625",
    "tags": []
   },
   "outputs": [
    {
     "name": "stdout",
     "output_type": "stream",
     "text": [
      "0\n",
      "1\n",
      "1\n",
      "2\n",
      "3\n",
      "5\n",
      "8\n",
      "13\n"
     ]
    }
   ],
   "source": [
    "def printFibo(UPPER):\n",
    "    if UPPER < 0:\n",
    "        raise Exception(\"Number provided cannot be negative\")   \n",
    "    #TODO\n",
    "\n",
    "# test       \n",
    "# printFibo(15)            "
   ]
  },
  {
   "cell_type": "markdown",
   "id": "a17399cc-4fda-41a3-8a35-f653ded7adf3",
   "metadata": {
    "id": "a17399cc-4fda-41a3-8a35-f653ded7adf3"
   },
   "source": [
    "### Exercici 4\n",
    "\n",
    "Escriu una funció que retorni, invertits, els dígits d'un nombre enter.\n",
    "\n",
    "Per exemple, donat un nombre enter 123, retornarà 321."
   ]
  },
  {
   "cell_type": "code",
   "execution_count": null,
   "id": "84ad2234-403f-45c6-ac3a-f23dc44ca55f",
   "metadata": {
    "execution": {
     "iopub.execute_input": "2022-11-29T14:50:19.426039Z",
     "iopub.status.busy": "2022-11-29T14:50:19.425401Z",
     "iopub.status.idle": "2022-11-29T14:50:19.430396Z",
     "shell.execute_reply": "2022-11-29T14:50:19.429675Z",
     "shell.execute_reply.started": "2022-11-29T14:50:19.426021Z"
    },
    "id": "84ad2234-403f-45c6-ac3a-f23dc44ca55f",
    "outputId": "c03f7a6e-e0d0-4e93-8178-b19581a98718",
    "tags": []
   },
   "outputs": [
    {
     "name": "stdout",
     "output_type": "stream",
     "text": [
      "321\n"
     ]
    }
   ],
   "source": [
    "def invers(n):\n",
    "  #TODO\n",
    "\n",
    "#test\n",
    "#print(invers(123))"
   ]
  },
  {
   "cell_type": "markdown",
   "id": "37f20b51-52bc-4e57-abca-0f878de7a87c",
   "metadata": {
    "id": "37f20b51-52bc-4e57-abca-0f878de7a87c"
   },
   "source": [
    "### Exercici 5\n",
    "\n",
    "Escriu una funció que retorni True si és N un número palíndrom (cap i cua) o False si no ho és\n"
   ]
  },
  {
   "cell_type": "code",
   "execution_count": null,
   "id": "e849bd52-d527-412b-8114-5169214adf80",
   "metadata": {
    "colab": {
     "base_uri": "https://localhost:8080/",
     "height": 130
    },
    "execution": {
     "iopub.execute_input": "2022-11-29T14:54:13.519107Z",
     "iopub.status.busy": "2022-11-29T14:54:13.518461Z",
     "iopub.status.idle": "2022-11-29T14:54:13.523800Z",
     "shell.execute_reply": "2022-11-29T14:54:13.522977Z",
     "shell.execute_reply.started": "2022-11-29T14:54:13.519088Z"
    },
    "id": "e849bd52-d527-412b-8114-5169214adf80",
    "outputId": "e476304d-6bf8-44fb-e449-b0dfa7a8715a"
   },
   "outputs": [
    {
     "ename": "IndentationError",
     "evalue": "ignored",
     "output_type": "error",
     "traceback": [
      "\u001b[0;36m  File \u001b[0;32m\"<ipython-input-1-beb31bcb1008>\"\u001b[0;36m, line \u001b[0;32m4\u001b[0m\n\u001b[0;31m    def isPalindrom(N):\u001b[0m\n\u001b[0m      ^\u001b[0m\n\u001b[0;31mIndentationError\u001b[0m\u001b[0;31m:\u001b[0m expected an indented block\n"
     ]
    }
   ],
   "source": [
    "def invers(n):\n",
    "  #TODO\n",
    "\n",
    "def isPalindrom(N):\n",
    "  #TODO\n",
    "\n",
    "#tests\n",
    "#print(isPalindrom(123))\n",
    "#print(isPalindrom(345676543))"
   ]
  },
  {
   "cell_type": "markdown",
   "id": "9dc09a80-5382-4289-bcfc-718815aa8f5f",
   "metadata": {
    "id": "9dc09a80-5382-4289-bcfc-718815aa8f5f"
   },
   "source": [
    "### Exercici 6\n",
    "\n",
    "Donada una llista de números enters, i donat un número enter n, escriu una funció que retorni la posició (índex) on es troba ubicat el número n dins de la llista, si la llista conté n, o bé retorni -1 si n no pertany a la llista.\n",
    "\n"
   ]
  },
  {
   "cell_type": "code",
   "execution_count": null,
   "id": "ab0cec46-2966-4d45-be35-1867340b1a38",
   "metadata": {
    "execution": {
     "iopub.execute_input": "2022-11-29T15:59:50.790780Z",
     "iopub.status.busy": "2022-11-29T15:59:50.790577Z",
     "iopub.status.idle": "2022-11-29T15:59:50.796397Z",
     "shell.execute_reply": "2022-11-29T15:59:50.795558Z",
     "shell.execute_reply.started": "2022-11-29T15:59:50.790765Z"
    },
    "id": "ab0cec46-2966-4d45-be35-1867340b1a38",
    "outputId": "24a57075-692c-42b2-da50-b72bde328806",
    "tags": []
   },
   "outputs": [
    {
     "data": {
      "text/plain": [
       "3"
      ]
     },
     "execution_count": 17,
     "metadata": {},
     "output_type": "execute_result"
    }
   ],
   "source": [
    "llista = [4, -3, 7, 11, 6, -2, 0, 1, -1, 15]\n",
    "\n",
    "numero = 11\n",
    "\n",
    "def getIndexOf(n, lis):\n",
    "  #TODO\n",
    "\n",
    "#test       \n",
    "#getIndexOf(numero, llista)\n"
   ]
  },
  {
   "cell_type": "markdown",
   "id": "fb7932f3-951d-4b44-9883-c5948264bbb3",
   "metadata": {
    "id": "fb7932f3-951d-4b44-9883-c5948264bbb3"
   },
   "source": [
    "### Exercici 7\n",
    "\n",
    "Donada una llista de números enters, i donat un número enter n, escriu una funció que retorni un enter que indica quantes vegades el número n apareix dins de la llista. Retornarà 0 si n no pertany a la llista."
   ]
  },
  {
   "cell_type": "code",
   "execution_count": null,
   "id": "4ff1e5f9-1413-4c26-b872-129e184cc1f0",
   "metadata": {
    "execution": {
     "iopub.execute_input": "2022-11-29T15:59:35.913731Z",
     "iopub.status.busy": "2022-11-29T15:59:35.913570Z",
     "iopub.status.idle": "2022-11-29T15:59:35.919574Z",
     "shell.execute_reply": "2022-11-29T15:59:35.918797Z",
     "shell.execute_reply.started": "2022-11-29T15:59:35.913715Z"
    },
    "id": "4ff1e5f9-1413-4c26-b872-129e184cc1f0",
    "outputId": "7f289223-476d-4d1f-d8c1-d8108e453321",
    "tags": []
   },
   "outputs": [
    {
     "data": {
      "text/plain": [
       "2"
      ]
     },
     "execution_count": 16,
     "metadata": {},
     "output_type": "execute_result"
    }
   ],
   "source": [
    "llista = [4, -3, 7, 11, 6, -2, 0, 1, -1, 15, 4, 4, 6]\n",
    "\n",
    "numero = 6\n",
    "\n",
    "def count(n, lis):\n",
    " #TODO\n",
    "\n",
    "# test       \n",
    "# count(numero, llista)"
   ]
  },
  {
   "cell_type": "markdown",
   "id": "643172c0-0030-4bca-92af-1ba16d9016d1",
   "metadata": {
    "id": "643172c0-0030-4bca-92af-1ba16d9016d1"
   },
   "source": [
    "### Exercici 8\n",
    "\n",
    "Donada una llista de números enters, escriu una funció que retorni quin és el valor màxim que hi ha dins de la llista."
   ]
  },
  {
   "cell_type": "code",
   "execution_count": null,
   "id": "e7524b06-0ab8-4076-aed7-802c670a2092",
   "metadata": {
    "execution": {
     "iopub.execute_input": "2022-11-29T16:03:29.039087Z",
     "iopub.status.busy": "2022-11-29T16:03:29.038561Z",
     "iopub.status.idle": "2022-11-29T16:03:29.045176Z",
     "shell.execute_reply": "2022-11-29T16:03:29.044341Z",
     "shell.execute_reply.started": "2022-11-29T16:03:29.038971Z"
    },
    "id": "e7524b06-0ab8-4076-aed7-802c670a2092",
    "outputId": "6a240fc2-28ba-4a68-ef1c-4a4adde883dc",
    "tags": []
   },
   "outputs": [
    {
     "data": {
      "text/plain": [
       "15"
      ]
     },
     "execution_count": 22,
     "metadata": {},
     "output_type": "execute_result"
    }
   ],
   "source": [
    "llista = [4, -3, 7, 11, 6, -2, 0, 1, -1, 15, 4, 4, 6]\n",
    "\n",
    "def maxim(lis):\n",
    " # TODO\n",
    "\n",
    "# test\n",
    "#maxim(llista)"
   ]
  },
  {
   "cell_type": "markdown",
   "id": "ddf7fd6d-e837-410c-b89e-bc7bc1ddecc9",
   "metadata": {
    "id": "ddf7fd6d-e837-410c-b89e-bc7bc1ddecc9"
   },
   "source": [
    "### Exercici 9\n",
    "\n",
    "Feu una funció que, donada una llista de número decimals que representen les notes dels alumnes d'una classe, retorni la nota mitjana de la classe.\n",
    "\n"
   ]
  },
  {
   "cell_type": "code",
   "execution_count": null,
   "id": "2fc00404-2580-4254-b7bf-e1a7f35ac78b",
   "metadata": {
    "execution": {
     "iopub.execute_input": "2022-11-29T16:11:56.700575Z",
     "iopub.status.busy": "2022-11-29T16:11:56.700189Z",
     "iopub.status.idle": "2022-11-29T16:11:56.705973Z",
     "shell.execute_reply": "2022-11-29T16:11:56.705014Z",
     "shell.execute_reply.started": "2022-11-29T16:11:56.700559Z"
    },
    "id": "2fc00404-2580-4254-b7bf-e1a7f35ac78b",
    "outputId": "df0616a6-da15-4fbb-8cd9-a9669807f765",
    "tags": []
   },
   "outputs": [
    {
     "data": {
      "text/plain": [
       "5.83"
      ]
     },
     "execution_count": 28,
     "metadata": {},
     "output_type": "execute_result"
    }
   ],
   "source": [
    "notes = [6.0,3.5,5.5,7.2,4.5,6.8,2.9,7.0,4.3,10.0,6.4]\n",
    "\n",
    "def average(llista):\n",
    " #TODO\n",
    "\n",
    "# test\n",
    "#average(notes)"
   ]
  },
  {
   "cell_type": "markdown",
   "id": "5f36dd88-eb58-4988-a070-754b1fc8e488",
   "metadata": {
    "id": "5f36dd88-eb58-4988-a070-754b1fc8e488"
   },
   "source": [
    "### Exercici 10\n",
    "\n",
    "Feu una funció que, donada una llista de números decimals amb les notes d'una classe, imprimeixi totes les notes per pantalla **de més gran a més petita**."
   ]
  },
  {
   "cell_type": "code",
   "execution_count": null,
   "id": "82cd95cf-be83-443b-bfd5-d406bbe4006b",
   "metadata": {
    "execution": {
     "iopub.execute_input": "2022-11-29T19:47:19.420011Z",
     "iopub.status.busy": "2022-11-29T19:47:19.419425Z",
     "iopub.status.idle": "2022-11-29T19:47:19.424564Z",
     "shell.execute_reply": "2022-11-29T19:47:19.423861Z",
     "shell.execute_reply.started": "2022-11-29T19:47:19.419995Z"
    },
    "id": "82cd95cf-be83-443b-bfd5-d406bbe4006b",
    "outputId": "83608856-6b26-4af7-f61d-be16a50284f2",
    "tags": []
   },
   "outputs": [
    {
     "name": "stdout",
     "output_type": "stream",
     "text": [
      "10.0\n",
      "7.2\n",
      "7.0\n",
      "6.8\n",
      "6.4\n",
      "6.0\n",
      "5.5\n",
      "4.5\n",
      "4.3\n",
      "3.5\n",
      "2.9\n"
     ]
    }
   ],
   "source": [
    "notes = [6.0,3.5,5.5,7.2,4.5,6.8,2.9,7.0,4.3,10.0,6.4]\n",
    "\n",
    "def maxim(lis):\n",
    " #TODO\n",
    "\n",
    "def printInDescOrder(llista, maxi):\n",
    " # TODO\n",
    "\n",
    "#test\n",
    "#printInDescOrder(notes, maxim(notes))\n",
    "\n",
    "## Què passa si notes té valors repetits? Com solucionar-ho?"
   ]
  },
  {
   "cell_type": "markdown",
   "id": "e24a82f2-7d1e-44ea-9a31-86c13ca69154",
   "metadata": {
    "id": "e24a82f2-7d1e-44ea-9a31-86c13ca69154"
   },
   "source": [
    "### Exercici 11\n",
    "\n",
    "Donada la variable entera ``a`` amb el seu valor i donada la variable entera ``b``, amb el seu valor, feu una funció que\n",
    "1. Imprimeixi els seus valors\n",
    "2. Intercanvieu els seus valors\n",
    "3. Imprimeixi els seus nous valors intercanviats"
   ]
  },
  {
   "cell_type": "code",
   "execution_count": null,
   "id": "c021244b-b5d2-4d8f-8ea8-d5a6053f89bc",
   "metadata": {
    "execution": {
     "iopub.execute_input": "2022-11-29T16:43:47.154648Z",
     "iopub.status.busy": "2022-11-29T16:43:47.154487Z",
     "iopub.status.idle": "2022-11-29T16:43:47.159498Z",
     "shell.execute_reply": "2022-11-29T16:43:47.158826Z",
     "shell.execute_reply.started": "2022-11-29T16:43:47.154633Z"
    },
    "id": "c021244b-b5d2-4d8f-8ea8-d5a6053f89bc",
    "outputId": "77c419c7-3f4a-478b-e68a-31bd196d1cb8"
   },
   "outputs": [
    {
     "name": "stdout",
     "output_type": "stream",
     "text": [
      "Before:\n",
      "a=7\n",
      "b=9\n",
      "After:\n",
      "a=9\n",
      "b=7\n"
     ]
    }
   ],
   "source": [
    "def printResult(message,a,b):\n",
    "    print(message)\n",
    "    print(f'a={a}')\n",
    "    print(f'b={b}')\n",
    "    \n",
    "def swap(a,b):\n",
    " #TODO   \n",
    "    \n",
    "a = 7\n",
    "b = 9\n",
    "#test\n",
    "#swap(a, b)"
   ]
  },
  {
   "cell_type": "markdown",
   "id": "fcd77865-67dd-4c74-9eef-6b4772634e5b",
   "metadata": {
    "id": "fcd77865-67dd-4c74-9eef-6b4772634e5b"
   },
   "source": [
    "### Exercici 12\n",
    "\n",
    "Repetiu l'exercici anterior, però ara **sense fer servir una variable auxiliar en el swap**"
   ]
  },
  {
   "cell_type": "code",
   "execution_count": null,
   "id": "8032705d-688c-4e84-9140-7db3dbe27489",
   "metadata": {
    "execution": {
     "iopub.execute_input": "2022-11-29T17:26:26.862919Z",
     "iopub.status.busy": "2022-11-29T17:26:26.862724Z",
     "iopub.status.idle": "2022-11-29T17:26:26.870114Z",
     "shell.execute_reply": "2022-11-29T17:26:26.869209Z",
     "shell.execute_reply.started": "2022-11-29T17:26:26.862875Z"
    },
    "id": "8032705d-688c-4e84-9140-7db3dbe27489",
    "outputId": "58198ca4-5510-4366-ee07-5f8881d41e79"
   },
   "outputs": [
    {
     "name": "stdout",
     "output_type": "stream",
     "text": [
      "Before:\n",
      "a=7\n",
      "b=9\n",
      "After:\n",
      "a=9\n",
      "b=7\n"
     ]
    }
   ],
   "source": [
    "def printResult(message,a,b):\n",
    "    print(message)\n",
    "    print(f'a={a}')\n",
    "    print(f'b={b}')\n",
    "    \n",
    "def swap(a,b):\n",
    " #TODO \n",
    "    \n",
    "a = 7\n",
    "b = 9\n",
    "#test\n",
    "#swap(a, b)"
   ]
  },
  {
   "cell_type": "markdown",
   "id": "6984176d-764e-42ee-adc1-92ba73dc9f3c",
   "metadata": {
    "id": "6984176d-764e-42ee-adc1-92ba73dc9f3c"
   },
   "source": [
    "### Exercici 13\n",
    "\n",
    "Donat una llista d'enters, busca el seu màxim, el seu mínim, i intercanvia'ls de lloc."
   ]
  },
  {
   "cell_type": "code",
   "execution_count": null,
   "id": "4d9310e0-bd4f-46cf-9256-d741da65dc3a",
   "metadata": {
    "execution": {
     "iopub.execute_input": "2022-11-29T17:35:20.424836Z",
     "iopub.status.busy": "2022-11-29T17:35:20.424129Z",
     "iopub.status.idle": "2022-11-29T17:35:20.430389Z",
     "shell.execute_reply": "2022-11-29T17:35:20.429589Z",
     "shell.execute_reply.started": "2022-11-29T17:35:20.424814Z"
    },
    "id": "4d9310e0-bd4f-46cf-9256-d741da65dc3a",
    "outputId": "bf989ce3-e094-439c-c5ee-84d96e9ef88a",
    "tags": []
   },
   "outputs": [
    {
     "name": "stdout",
     "output_type": "stream",
     "text": [
      "[4, -3, 7, 11, 6, -2, 0, 1, -1, 15, 4, 4, 6]\n",
      "[4, 15, 7, 11, 6, -2, 0, 1, -1, -3, 4, 4, 6]\n"
     ]
    }
   ],
   "source": [
    "llista = [4, -3, 7, 11, 6, -2, 0, 1, -1, 15, 4, 4, 6]\n",
    "\n",
    "def maxim(lis):\n",
    " #TODO\n",
    "\n",
    "def minim(lis):\n",
    " #TODO\n",
    "\n",
    "def getIndexOf(n, lis):\n",
    " #TODO\n",
    "\n",
    "def swap(lis,idxa, idxb):\n",
    " #TODO\n",
    "\n",
    "# test\n",
    "#print(llista)\n",
    "#swap(llista,getIndexOf(maxim(llista),llista),getIndexOf(minim(llista),llista))\n",
    "#print(llista)"
   ]
  },
  {
   "cell_type": "markdown",
   "id": "1f376497-1119-4073-bf24-fb58899803a8",
   "metadata": {
    "id": "1f376497-1119-4073-bf24-fb58899803a8"
   },
   "source": [
    "### Exercici 14\n",
    "\n",
    "Donada una llista d'enters, fes una funció que imprimeixi per pantalla els números en ordre **ascendent** (primer el més petit, al final el més gran)."
   ]
  },
  {
   "cell_type": "code",
   "execution_count": null,
   "id": "42ff85a2-2766-44e5-9ae3-5ea0083e7617",
   "metadata": {
    "execution": {
     "iopub.execute_input": "2022-11-29T19:47:08.905460Z",
     "iopub.status.busy": "2022-11-29T19:47:08.905077Z",
     "iopub.status.idle": "2022-11-29T19:47:08.910765Z",
     "shell.execute_reply": "2022-11-29T19:47:08.910106Z",
     "shell.execute_reply.started": "2022-11-29T19:47:08.905430Z"
    },
    "id": "42ff85a2-2766-44e5-9ae3-5ea0083e7617",
    "outputId": "86defa8c-b395-4cb0-9813-000058bdd582",
    "tags": []
   },
   "outputs": [
    {
     "name": "stdout",
     "output_type": "stream",
     "text": [
      "2.9\n",
      "3.5\n",
      "4.3\n",
      "4.5\n",
      "5.5\n",
      "6.0\n",
      "6.4\n",
      "6.8\n",
      "7.0\n",
      "7.2\n",
      "10.0\n"
     ]
    }
   ],
   "source": [
    "notes = [6.0,3.5,5.5,7.2,4.5,6.8,2.9,7.0,4.3,10.0,6.4]\n",
    "\n",
    "def minim(lis):\n",
    " # TODO\n",
    "\n",
    "def printInAscOrder(llista, mini):\n",
    " #TODO\n",
    "\n",
    "# test\n",
    "# printInAscOrder(notes, minim(notes))\n",
    "\n",
    "## Què passa si notes té valors repetits? Com solucionar-ho?"
   ]
  },
  {
   "cell_type": "markdown",
   "id": "5a592f7d-d3dc-49c5-917a-6439e8b5dcb7",
   "metadata": {
    "execution": {
     "iopub.execute_input": "2022-11-29T18:43:51.900063Z",
     "iopub.status.busy": "2022-11-29T18:43:51.899821Z",
     "iopub.status.idle": "2022-11-29T18:43:51.903663Z",
     "shell.execute_reply": "2022-11-29T18:43:51.902879Z",
     "shell.execute_reply.started": "2022-11-29T18:43:51.900016Z"
    },
    "id": "5a592f7d-d3dc-49c5-917a-6439e8b5dcb7"
   },
   "source": [
    "### Exercici 15\n",
    "\n",
    "Repeteix l'exercici anterior, però ara enlloc d'anar imprimint els enters ordenats de més petit a més gran per pantalla, els vas posant a una altra llista, i al final imprimeixes la nova llista, on han de sortir tots els elements ordenats de menor a major."
   ]
  },
  {
   "cell_type": "code",
   "execution_count": null,
   "id": "5eea0248-f19a-4f2a-9e03-a2c89e535947",
   "metadata": {
    "execution": {
     "iopub.execute_input": "2022-11-29T18:49:57.555995Z",
     "iopub.status.busy": "2022-11-29T18:49:57.555814Z",
     "iopub.status.idle": "2022-11-29T18:49:57.561059Z",
     "shell.execute_reply": "2022-11-29T18:49:57.560336Z",
     "shell.execute_reply.started": "2022-11-29T18:49:57.555981Z"
    },
    "id": "5eea0248-f19a-4f2a-9e03-a2c89e535947",
    "outputId": "c6de4767-cf5e-4128-fb30-c20dd9cf7e21",
    "tags": []
   },
   "outputs": [
    {
     "name": "stdout",
     "output_type": "stream",
     "text": [
      "[2.9, 3.5, 4.3, 4.5, 5.5, 6.0, 6.4, 6.8, 7.0, 7.2, 10.0]\n"
     ]
    }
   ],
   "source": [
    "notes = [6.0,3.5,5.5,7.2,4.5,6.8,2.9,7.0,4.3,10.0,6.4]\n",
    "\n",
    "notesOrdenades = []\n",
    "\n",
    "def minim(lis):\n",
    " # TODO\n",
    "\n",
    "def sortInAscOrder(llista, mini):\n",
    " #TODO\n",
    "\n",
    "# test\n",
    "#sortInAscOrder(notes, minim(notes))\n",
    "#print(notesOrdenades)"
   ]
  },
  {
   "cell_type": "markdown",
   "id": "9b57beac-4b21-450a-980d-957b5f772a1d",
   "metadata": {
    "id": "9b57beac-4b21-450a-980d-957b5f772a1d"
   },
   "source": [
    "### Exercici 16\n",
    "\n",
    "Donat una llista d'enters, troba el seu màxim i posa'l al final de la llista. \n",
    "\n",
    "L'enter que està al final de la llista s'ha d'intercanviar amb el valor màxim trobat (intercanviar posicions)."
   ]
  },
  {
   "cell_type": "code",
   "execution_count": null,
   "id": "1c2ea820-6946-44a2-b1c4-967f3613c266",
   "metadata": {
    "execution": {
     "iopub.execute_input": "2022-11-29T18:52:17.079492Z",
     "iopub.status.busy": "2022-11-29T18:52:17.078740Z",
     "iopub.status.idle": "2022-11-29T18:52:17.084349Z",
     "shell.execute_reply": "2022-11-29T18:52:17.083628Z",
     "shell.execute_reply.started": "2022-11-29T18:52:17.079472Z"
    },
    "id": "1c2ea820-6946-44a2-b1c4-967f3613c266",
    "outputId": "5396e9e6-6fe8-465e-fac4-00b7eb36f3b0"
   },
   "outputs": [
    {
     "name": "stdout",
     "output_type": "stream",
     "text": [
      "[4, -3, 7, 11, 6, -2, 0, 1, -1, 15, 4, 4, 6]\n",
      "[4, -3, 7, 11, 6, -2, 0, 1, -1, 6, 4, 4, 15]\n"
     ]
    }
   ],
   "source": [
    "llista = [4, -3, 7, 11, 6, -2, 0, 1, -1, 15, 4, 4, 6]\n",
    "\n",
    "def maxim(lis):\n",
    " # TODO\n",
    "\n",
    "def getIndexOf(n, lis):\n",
    " # TODO\n",
    "\n",
    "def swap(lis,idxa, idxb):\n",
    " # TODO\n",
    "\n",
    "# tests\n",
    "#print(llista)\n",
    "#swap(llista,getIndexOf(maxim(llista),llista), len(llista) - 1)\n",
    "#print(llista)"
   ]
  },
  {
   "cell_type": "markdown",
   "id": "6eed1996-ba68-4362-8309-34fe4ff685da",
   "metadata": {
    "id": "6eed1996-ba68-4362-8309-34fe4ff685da"
   },
   "source": [
    "### Exercici 17\n",
    "\n",
    "A partir de l'exercici anterior, ordena tota la llista en ordre **ascendent** (de menor a major) **sense utilitzar una segona llista**."
   ]
  },
  {
   "cell_type": "code",
   "execution_count": null,
   "id": "75f93f96-28f7-4a0a-8c44-196a14fdbae8",
   "metadata": {
    "execution": {
     "iopub.execute_input": "2022-11-29T19:06:07.383937Z",
     "iopub.status.busy": "2022-11-29T19:06:07.383346Z",
     "iopub.status.idle": "2022-11-29T19:06:07.389537Z",
     "shell.execute_reply": "2022-11-29T19:06:07.388850Z",
     "shell.execute_reply.started": "2022-11-29T19:06:07.383921Z"
    },
    "id": "75f93f96-28f7-4a0a-8c44-196a14fdbae8",
    "outputId": "8a901fd3-eb23-426a-f1fc-03a3f8918dea",
    "tags": []
   },
   "outputs": [
    {
     "name": "stdout",
     "output_type": "stream",
     "text": [
      "[4, -3, 7, 11, 6, -2, 0, 1, -1, 15, 4, 4, 6]\n",
      "[-3, -2, -1, 0, 1, 4, 4, 4, 6, 6, 7, 11, 15]\n"
     ]
    }
   ],
   "source": [
    "llista = [4, -3, 7, 11, 6, -2, 0, 1, -1, 15, 4, 4, 6]\n",
    "\n",
    "def maxim(lis, upperBound):\n",
    " #TODO\n",
    "\n",
    "def getIndexOf(n, lis):\n",
    " #TODO\n",
    "\n",
    "def swap(lis,idxa, idxb):\n",
    " #TODO\n",
    "\n",
    "# printa llista original\n",
    "print(llista)\n",
    "\n",
    "# funció que ordena llista\n",
    "def sortList(llista):\n",
    " # TODO\n",
    "\n",
    "# ordenem la llista cridant la funció \n",
    "# test\n",
    "# sortList(llista)\n",
    "        \n",
    "# printa llista ordenada\n",
    "print(llista)\n",
    "    "
   ]
  },
  {
   "cell_type": "markdown",
   "id": "688ae317-1747-4376-8f91-3603c2bb641c",
   "metadata": {
    "id": "688ae317-1747-4376-8f91-3603c2bb641c"
   },
   "source": [
    "### Exercici 18\n",
    "\n",
    "Ordena una llista donada d'enters, sense fer servir un segon array, seguint el següent algorisme:\n",
    "\n",
    "1. Compara el primer element de la llista amb el segon element de la llista, si el primer és més gran que el segon, intercanvia'ls.\n",
    "2. Compara el segon element de la llista amb el tercer element, si el segon és més gran, intercanvia'ls.\n",
    "3. Compara el tercer amb el quart elements i intercanvia'ls si el tercer és més gran que el segon.\n",
    "4. Repeteix aquest procés de comparació fins que arribis al final i comparis el penúltim element amb l'últim (i els intercanvies si el penúltim és més gran que l'últim).\n",
    "5. Repeteix les passes d'1 a 4 fins que es compleixi la següent condició: en totes les comparacions **no s'ha fet cap intercanvi**.\n",
    "\n",
    "Finalment, tindràs la llista ordenada."
   ]
  },
  {
   "cell_type": "code",
   "execution_count": null,
   "id": "5f431d6b-b5bc-4949-940e-1e432f311475",
   "metadata": {
    "execution": {
     "iopub.execute_input": "2022-11-29T19:18:38.607438Z",
     "iopub.status.busy": "2022-11-29T19:18:38.607276Z",
     "iopub.status.idle": "2022-11-29T19:18:38.612483Z",
     "shell.execute_reply": "2022-11-29T19:18:38.611792Z",
     "shell.execute_reply.started": "2022-11-29T19:18:38.607423Z"
    },
    "id": "5f431d6b-b5bc-4949-940e-1e432f311475",
    "outputId": "52576a88-3362-45e9-b630-91b766baafdd",
    "tags": []
   },
   "outputs": [
    {
     "name": "stdout",
     "output_type": "stream",
     "text": [
      "[4, -3, 7, 11, 6, -2, 0, 1, -1, 15, 4, 4, 6]\n",
      "[-3, -2, -1, 0, 1, 4, 4, 4, 6, 6, 7, 11, 15]\n"
     ]
    }
   ],
   "source": [
    "llista = [4, -3, 7, 11, 6, -2, 0, 1, -1, 15, 4, 4, 6]\n",
    "\n",
    "def swap(lis,idxa, idxb):\n",
    " # TODO\n",
    "\n",
    "def preBubbleSort(llista):\n",
    "  # TODO\n",
    "\n",
    "print(llista)                \n",
    "\n",
    "# test               \n",
    "#preBubbleSort(llista)\n",
    "\n",
    "print(llista)\n",
    "\n",
    "    "
   ]
  },
  {
   "cell_type": "code",
   "execution_count": null,
   "id": "b3564b9f-daa8-4829-9ff2-d5a11d87914f",
   "metadata": {
    "id": "b3564b9f-daa8-4829-9ff2-d5a11d87914f"
   },
   "outputs": [],
   "source": []
  }
 ],
 "metadata": {
  "colab": {
   "include_colab_link": true,
   "provenance": []
  },
  "kernelspec": {
   "display_name": "Python 3",
   "language": "python",
   "name": "python3"
  },
  "language_info": {
   "codemirror_mode": {
    "name": "ipython",
    "version": 3
   },
   "file_extension": ".py",
   "mimetype": "text/x-python",
   "name": "python",
   "nbconvert_exporter": "python",
   "pygments_lexer": "ipython3",
   "version": "3.11.5"
  }
 },
 "nbformat": 4,
 "nbformat_minor": 5
}
