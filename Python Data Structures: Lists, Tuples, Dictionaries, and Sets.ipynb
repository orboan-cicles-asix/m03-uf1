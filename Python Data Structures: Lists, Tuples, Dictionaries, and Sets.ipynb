{
 "cells": [
  {
   "cell_type": "markdown",
   "id": "96d60014",
   "metadata": {},
   "source": [
    "# Python Data Structures: Lists, Tuples, Dictionaries, and Sets"
   ]
  },
  {
   "cell_type": "markdown",
   "id": "99ee54c3",
   "metadata": {},
   "source": [
    "## Introduction"
   ]
  },
  {
   "cell_type": "markdown",
   "id": "5a553400",
   "metadata": {},
   "source": [
    "## Mètodes de les Llistes"
   ]
  },
  {
   "cell_type": "markdown",
   "id": "351206fb-0ce5-4306-9a09-1eb71154f5c1",
   "metadata": {
    "execution": {
     "iopub.execute_input": "2023-10-06T08:57:56.799055Z",
     "iopub.status.busy": "2023-10-06T08:57:56.798399Z",
     "iopub.status.idle": "2023-10-06T08:57:56.818768Z",
     "shell.execute_reply": "2023-10-06T08:57:56.816423Z",
     "shell.execute_reply.started": "2023-10-06T08:57:56.798997Z"
    }
   },
   "source": [
    "Les llistes són una estructura de dades molt utilitzada a Python.  \n",
    "\n",
    "Les llistes són **mutables**.\n",
    "\n",
    "Les llistes poden contenir valors de diversos tipus de dades:"
   ]
  },
  {
   "cell_type": "code",
   "execution_count": 4,
   "id": "fbb07452-4b47-4c85-8a9e-da88226a3f4e",
   "metadata": {
    "execution": {
     "iopub.execute_input": "2023-10-06T09:16:00.769029Z",
     "iopub.status.busy": "2023-10-06T09:16:00.768371Z",
     "iopub.status.idle": "2023-10-06T09:16:00.777752Z",
     "shell.execute_reply": "2023-10-06T09:16:00.775942Z",
     "shell.execute_reply.started": "2023-10-06T09:16:00.768969Z"
    }
   },
   "outputs": [],
   "source": [
    "mixed_list = [42, \"banana\", 2.71, False, (\"a\", \"b\", \"c\")]\n"
   ]
  },
  {
   "cell_type": "markdown",
   "id": "de5cbc62-cbc4-493a-a3b0-d3ede68457db",
   "metadata": {},
   "source": [
    "Les llistes poden contenir elements repetits.\n",
    "\n",
    "A continuació, anem a explorar els principals mètodes que es poden utilitzar amb les llistes."
   ]
  },
  {
   "cell_type": "code",
   "execution_count": null,
   "id": "cda28d96",
   "metadata": {},
   "outputs": [],
   "source": [
    "# Creació d'una llista\n",
    "my_list = [1, 2, 3, 4, 5]"
   ]
  },
  {
   "cell_type": "code",
   "execution_count": null,
   "id": "6ba0a2d2",
   "metadata": {},
   "outputs": [],
   "source": [
    "# Mètode append()\n",
    "# Afegeix un element al final de la llista\n",
    "my_list.append(6) # [1, 2, 3, 4, 5, 6]\n",
    "print(my_list)"
   ]
  },
  {
   "cell_type": "code",
   "execution_count": null,
   "id": "f53ab9bc",
   "metadata": {},
   "outputs": [],
   "source": [
    "# Mètode insert()\n",
    "# Afegeix un element en una posició específica de la llista\n",
    "my_list.insert(3, 7) # [1, 2, 3, 7, 4, 5, 6]\n",
    "print(my_list)"
   ]
  },
  {
   "cell_type": "code",
   "execution_count": null,
   "id": "ea6974da",
   "metadata": {},
   "outputs": [],
   "source": [
    "# Mètode remove()\n",
    "# Elimina la primera aparició d'un element en la llista\n",
    "my_list.remove(4) # [1, 2, 3, 7, 5, 6]\n",
    "print(my_list)"
   ]
  },
  {
   "cell_type": "code",
   "execution_count": null,
   "id": "0f5261a0",
   "metadata": {},
   "outputs": [],
   "source": [
    "# Mètode pop()\n",
    "# Elimina l'element en una posició específica de la llista i el retorna\n",
    "popped_element = my_list.pop(1) # [1, 3, 7, 5, 6], popped_element = 2\n",
    "print(my_list)\n",
    "print(popped_element)"
   ]
  },
  {
   "cell_type": "code",
   "execution_count": null,
   "id": "aefaeb86",
   "metadata": {},
   "outputs": [],
   "source": [
    "# Mètode clear()\n",
    "# Elimina tots els elements de la llista\n",
    "my_list.clear() # []\n",
    "print(my_list)"
   ]
  },
  {
   "cell_type": "code",
   "execution_count": null,
   "id": "35ca852c",
   "metadata": {},
   "outputs": [],
   "source": [
    "# Mètode index()\n",
    "# Retorna la primera posició d'un element en la llista\n",
    "my_list = [1, 2, 3, 4, 5]\n",
    "index = my_list.index(3) # 2\n",
    "print(index)"
   ]
  },
  {
   "cell_type": "code",
   "execution_count": null,
   "id": "a7ae6778",
   "metadata": {},
   "outputs": [],
   "source": [
    "# Mètode count()\n",
    "# Compta el nombre d'aparicions d'un element en la llista\n",
    "count = my_list.count(2) # 1\n",
    "print(count)"
   ]
  },
  {
   "cell_type": "code",
   "execution_count": null,
   "id": "75c8afb9",
   "metadata": {},
   "outputs": [],
   "source": [
    "# Mètode sort()\n",
    "# Ordena la llista de forma ascendent\n",
    "my_list.sort() # [1, 2, 3, 4, 5]\n",
    "print(my_list)"
   ]
  },
  {
   "cell_type": "code",
   "execution_count": null,
   "id": "e7c31707",
   "metadata": {},
   "outputs": [],
   "source": [
    "# Mètode reverse()\n",
    "# Inverteix l'ordre dels elements de la llista\n",
    "my_list.reverse() # [5, 4, 3, 2, 1]\n",
    "print(my_list)"
   ]
  },
  {
   "cell_type": "markdown",
   "id": "a421e7fa",
   "metadata": {},
   "source": [
    "## Tuples"
   ]
  },
  {
   "cell_type": "markdown",
   "id": "d0e3ded8-a63a-4d49-9e01-c32298648eed",
   "metadata": {},
   "source": [
    "Una tupla es una estructura de datos similar a una lista, pero con la diferencia que las tuplas son inmutables, lo que significa que no se pueden modificar después de ser creadas."
   ]
  },
  {
   "cell_type": "code",
   "execution_count": null,
   "id": "c3d0bd77",
   "metadata": {},
   "outputs": [],
   "source": [
    "# Para crear una tupla, simplemente colocamos los elementos separados por comas dentro de paréntesis."
   ]
  },
  {
   "cell_type": "code",
   "execution_count": null,
   "id": "b5c505e9",
   "metadata": {},
   "outputs": [],
   "source": [
    "# Ejemplo de creación de una tupla con algunos elementos:\n",
    "my_tuple = (1, 2, 3, 4, 5)"
   ]
  },
  {
   "cell_type": "code",
   "execution_count": null,
   "id": "8cb945d3",
   "metadata": {},
   "outputs": [],
   "source": [
    "# Podem accedir als elements d'una tupla utilitzant l'índex de l'element, tal com ho faríem amb una llista.\n",
    "# Els índexs a Python comencen en 0.\n",
    "print(my_tuple[0])  # Output: 1\n",
    "print(my_tuple[2])  # Output: 3"
   ]
  },
  {
   "cell_type": "code",
   "execution_count": null,
   "id": "57438e55",
   "metadata": {},
   "outputs": [],
   "source": [
    "# Una tupla també pot contenir diferents tipus d'elements.\n",
    "mixed_tuple = (1, \"dos\", True, 4.5)"
   ]
  },
  {
   "cell_type": "code",
   "execution_count": null,
   "id": "f14874bc",
   "metadata": {},
   "outputs": [],
   "source": [
    "# Podemos utilizar el operador de segmentación para obtener una parte de la tupla.\n",
    "print(my_tuple[1:3])  # Output: (2, 3)"
   ]
  },
  {
   "cell_type": "code",
   "execution_count": null,
   "id": "6df888e5",
   "metadata": {},
   "outputs": [],
   "source": [
    "# Las tuplas tienen algunos métodos incorporados que podemos utilizar para diferentes operaciones."
   ]
  },
  {
   "cell_type": "code",
   "execution_count": null,
   "id": "c2a6b22d",
   "metadata": {},
   "outputs": [],
   "source": [
    "# Método count: Cuenta el número de veces que aparece un elemento dentro de la tupla.\n",
    "count = my_tuple.count(2)\n",
    "print(count)  # Output: 1"
   ]
  },
  {
   "cell_type": "code",
   "execution_count": null,
   "id": "2e49813b",
   "metadata": {},
   "outputs": [],
   "source": [
    "# Método index: Retorna el índice de la primera aparición de un elemento dentro de la tupla.\n",
    "index = my_tuple.index(4)\n",
    "print(index)  # Output: 3"
   ]
  },
  {
   "cell_type": "code",
   "execution_count": null,
   "id": "3b8a3e4c",
   "metadata": {},
   "outputs": [],
   "source": [
    "# Las tuplas son inmutables, lo que significa que no podemos cambiar sus elementos después de su creación.\n",
    "# Por lo tanto, cualquier intento de cambiar un elemento de la tupla generará un error.\n",
    "# my_tuple[0] = 10  # Generará un error"
   ]
  },
  {
   "cell_type": "code",
   "execution_count": null,
   "id": "e0a68751",
   "metadata": {},
   "outputs": [],
   "source": [
    "# Sin embargo, podemos concatenar dos tuplas para crear una nueva tupla.\n",
    "new_tuple = my_tuple + mixed_tuple\n",
    "print(new_tuple)  # Output: (1, 2, 3, 4, 5, 1, \"dos\", True, 4.5)"
   ]
  },
  {
   "cell_type": "code",
   "execution_count": null,
   "id": "fc8316d6",
   "metadata": {},
   "outputs": [],
   "source": [
    "# Les tuples són útils quan volem emmagatzemar una seqüència ordenada d'elements que no han de canviar."
   ]
  },
  {
   "cell_type": "markdown",
   "id": "74ee98ea",
   "metadata": {},
   "source": [
    "## Mètodes de les Tuples"
   ]
  },
  {
   "cell_type": "markdown",
   "id": "7f1979a6-a86b-436e-8c59-93489afe7173",
   "metadata": {},
   "source": [
    "Les tuples són una estructura de dades immutables a Python. Això significa que una vegada que s'ha creat una tuple, no es pot canviar cap dels seus elements."
   ]
  },
  {
   "cell_type": "code",
   "execution_count": null,
   "id": "05cf5c2b",
   "metadata": {},
   "outputs": [],
   "source": [
    "# Ejemplo de creación de una tuple:\n",
    "tupla = (1, 2, 3, 4, 5)"
   ]
  },
  {
   "cell_type": "code",
   "execution_count": null,
   "id": "ab135e98",
   "metadata": {},
   "outputs": [],
   "source": [
    "# Método count()\n",
    "# El método count() retorna el número de veces que un elemento aparece en la tuple.\n",
    "count = tupla.count(2)\n",
    "print(count)  # Output: 1"
   ]
  },
  {
   "cell_type": "code",
   "execution_count": null,
   "id": "ca0990b6",
   "metadata": {},
   "outputs": [],
   "source": [
    "# Método index()\n",
    "# El método index() retorna el índice de la primera aparición de un elemento en la tuple.\n",
    "index = tupla.index(4)\n",
    "print(index)  # Output: 3"
   ]
  },
  {
   "cell_type": "code",
   "execution_count": null,
   "id": "93db5ed3",
   "metadata": {},
   "outputs": [],
   "source": [
    "# Com que les tuples són immutables, no hi ha mètodes per afegir, eliminar o canviar elements d'una tuple. Si es necessita realitzar aquestes operacions, s'ha de convertir la tuple en una llista, fer els canvis i després tornar-la a convertir en una tuple."
   ]
  },
  {
   "cell_type": "markdown",
   "id": "ed756f65",
   "metadata": {},
   "source": [
    "## Diccionaris"
   ]
  },
  {
   "cell_type": "code",
   "execution_count": null,
   "id": "890baed2",
   "metadata": {},
   "outputs": [],
   "source": [
    "# Dictionaries"
   ]
  },
  {
   "cell_type": "code",
   "execution_count": null,
   "id": "50489b3e",
   "metadata": {},
   "outputs": [],
   "source": [
    "# A dictionary is a mutable data structure, similar to a list or tuple, that allows storing key-value pairs.\n",
    "# Unlike lists or tuples, dictionaries are not ordered, but they allow accessing values using their keys."
   ]
  },
  {
   "cell_type": "code",
   "execution_count": null,
   "id": "c02fe9f3",
   "metadata": {},
   "outputs": [],
   "source": [
    "# To create an empty dictionary, we can use the dictionary brackets:\n",
    "dictionary = {}"
   ]
  },
  {
   "cell_type": "code",
   "execution_count": null,
   "id": "d86137ce",
   "metadata": {},
   "outputs": [],
   "source": [
    "# We can also create a dictionary with predefined key-value pairs:\n",
    "dictionary = {'key1': 'value1', 'key2': 'value2'}"
   ]
  },
  {
   "cell_type": "code",
   "execution_count": null,
   "id": "34ca25e0",
   "metadata": {},
   "outputs": [],
   "source": [
    "# We can access the values of a dictionary using their keys:\n",
    "value1 = dictionary['key1']\n",
    "value2 = dictionary['key2']"
   ]
  },
  {
   "cell_type": "code",
   "execution_count": null,
   "id": "5d94cc60",
   "metadata": {},
   "outputs": [],
   "source": [
    "# We can add new key-value pairs to a dictionary:\n",
    "dictionary['key3'] = 'value3'"
   ]
  },
  {
   "cell_type": "code",
   "execution_count": null,
   "id": "6f04a6ff",
   "metadata": {},
   "outputs": [],
   "source": [
    "# We can modify the value of an existing key in a dictionary:\n",
    "dictionary['key2'] = 'new_value2'"
   ]
  },
  {
   "cell_type": "code",
   "execution_count": null,
   "id": "d56a65d6",
   "metadata": {},
   "outputs": [],
   "source": [
    "# We can delete a key-value pair from a dictionary using the \"del\" operator:\n",
    "del dictionary['key3']"
   ]
  },
  {
   "cell_type": "code",
   "execution_count": null,
   "id": "7207e623",
   "metadata": {},
   "outputs": [],
   "source": [
    "# We can check if a key exists in a dictionary using the \"in\" operator:\n",
    "if 'key1' in dictionary:\n",
    "    print(\"key1 exists in the dictionary\")"
   ]
  },
  {
   "cell_type": "code",
   "execution_count": null,
   "id": "3526cbfb",
   "metadata": {},
   "outputs": [],
   "source": [
    "# We can get a list of the keys of a dictionary using the \"keys\" method:\n",
    "keys = dictionary.keys()"
   ]
  },
  {
   "cell_type": "code",
   "execution_count": null,
   "id": "529f74ac",
   "metadata": {},
   "outputs": [],
   "source": [
    "# We can get a list of the values of a dictionary using the \"values\" method:\n",
    "values = dictionary.values()"
   ]
  },
  {
   "cell_type": "code",
   "execution_count": null,
   "id": "b961f033",
   "metadata": {},
   "outputs": [],
   "source": [
    "# We can get a list of key-value pairs of a dictionary using the \"items\" method:\n",
    "pairs = dictionary.items()"
   ]
  },
  {
   "cell_type": "code",
   "execution_count": null,
   "id": "a6370886",
   "metadata": {},
   "outputs": [],
   "source": [
    "# We can iterate over the keys of a dictionary using a \"for\" loop:\n",
    "for key in dictionary:\n",
    "    value = dictionary[key]\n",
    "    print(key, value)"
   ]
  },
  {
   "cell_type": "code",
   "execution_count": null,
   "id": "0f0388a0",
   "metadata": {},
   "outputs": [],
   "source": [
    "# We can also use the \"items\" method to iterate over the key-value pairs of a dictionary:\n",
    "for key, value in dictionary.items():\n",
    "    print(key, value)"
   ]
  },
  {
   "cell_type": "markdown",
   "id": "fcf966c4",
   "metadata": {},
   "source": [
    "## Mètodes dels Diccionaris"
   ]
  },
  {
   "cell_type": "code",
   "execution_count": null,
   "id": "0e548b20",
   "metadata": {},
   "outputs": [],
   "source": [
    "# Mètodes dels Diccionaris"
   ]
  },
  {
   "cell_type": "code",
   "execution_count": null,
   "id": "54d8f4e9",
   "metadata": {},
   "outputs": [],
   "source": [
    "# Crear un diccionari buit\n",
    "diccionari = {}"
   ]
  },
  {
   "cell_type": "code",
   "execution_count": null,
   "id": "79732ff6",
   "metadata": {},
   "outputs": [],
   "source": [
    "# Afegir elements al diccionari\n",
    "diccionari[\"clau1\"] = \"valor1\"\n",
    "diccionari[\"clau2\"] = \"valor2\"\n",
    "diccionari[\"clau3\"] = \"valor3\""
   ]
  },
  {
   "cell_type": "code",
   "execution_count": null,
   "id": "b1f6324e",
   "metadata": {},
   "outputs": [],
   "source": [
    "# Obtindre el valor d'una clau\n",
    "valor = diccionari[\"clau1\"]\n",
    "print(\"Valor de clau1:\", valor)"
   ]
  },
  {
   "cell_type": "code",
   "execution_count": null,
   "id": "9bbc7710",
   "metadata": {},
   "outputs": [],
   "source": [
    "# Comprovar si una clau existeix en el diccionari\n",
    "existeix = \"clau1\" in diccionari\n",
    "print(\"La clau1 existeix en el diccionari?\", existeix)"
   ]
  },
  {
   "cell_type": "code",
   "execution_count": null,
   "id": "525d54e3",
   "metadata": {},
   "outputs": [],
   "source": [
    "# Obtindre tots els valors del diccionari\n",
    "valors = list(diccionari.values())\n",
    "print(\"Valors del diccionari:\", valors)"
   ]
  },
  {
   "cell_type": "code",
   "execution_count": null,
   "id": "a656f299",
   "metadata": {},
   "outputs": [],
   "source": [
    "# Obtindre totes les claus del diccionari\n",
    "claus = list(diccionari.keys())\n",
    "print(\"Claus del diccionari:\", claus)"
   ]
  },
  {
   "cell_type": "code",
   "execution_count": null,
   "id": "e716ffa0",
   "metadata": {},
   "outputs": [],
   "source": [
    "# Obtindre tots els elements del diccionari com a parells clau-valor\n",
    "elements = list(diccionari.items())\n",
    "print(\"Elements del diccionari:\", elements)"
   ]
  },
  {
   "cell_type": "code",
   "execution_count": null,
   "id": "baa0e4f9",
   "metadata": {},
   "outputs": [],
   "source": [
    "# Eliminar un element del diccionari\n",
    "del diccionari[\"clau2\"]\n",
    "print(\"Diccionari després d'eliminar clau2:\", diccionari)"
   ]
  },
  {
   "cell_type": "code",
   "execution_count": null,
   "id": "14b6fc1d",
   "metadata": {},
   "outputs": [],
   "source": [
    "# Actualitzar el valor d'una clau existent\n",
    "diccionari[\"clau1\"] = \"nou_valor\"\n",
    "print(\"Diccionari després de l'actualització:\", diccionari)"
   ]
  },
  {
   "cell_type": "code",
   "execution_count": null,
   "id": "16c64c19",
   "metadata": {},
   "outputs": [],
   "source": [
    "# Obtindre la longitud del diccionari\n",
    "longitud = len(diccionari)\n",
    "print(\"Longitud del diccionari:\", longitud)"
   ]
  },
  {
   "cell_type": "markdown",
   "id": "4b8c2c29",
   "metadata": {},
   "source": [
    "## Sets"
   ]
  },
  {
   "cell_type": "code",
   "execution_count": null,
   "id": "f5c26f3f",
   "metadata": {},
   "outputs": [],
   "source": [
    "# Sets"
   ]
  },
  {
   "cell_type": "code",
   "execution_count": null,
   "id": "23c86bbd",
   "metadata": {},
   "outputs": [],
   "source": [
    "# Un set és una col·lecció no ordenada d'elements únics. "
   ]
  },
  {
   "cell_type": "code",
   "execution_count": null,
   "id": "7ac2dd62",
   "metadata": {},
   "outputs": [],
   "source": [
    "# Per crear un set, podem utilitzar la funció `set()` o utilitzar les claudàtors `{}` amb els elements separats per comes. "
   ]
  },
  {
   "cell_type": "code",
   "execution_count": null,
   "id": "8d663f9d",
   "metadata": {},
   "outputs": [],
   "source": [
    "# Exemple de creació d'un set:\n",
    "my_set = {1, 2, 3, 4, 5}"
   ]
  },
  {
   "cell_type": "code",
   "execution_count": null,
   "id": "1784ae84",
   "metadata": {},
   "outputs": [],
   "source": [
    "another_set = {5, 6, 7, 8, 9}"
   ]
  },
  {
   "cell_type": "code",
   "execution_count": null,
   "id": "1d90fb44",
   "metadata": {},
   "outputs": [],
   "source": [
    "# Els sets no permeten elements duplicats, de manera que si afegim un element que ja existeix en el set, no es produirà cap canvi en el mateix."
   ]
  },
  {
   "cell_type": "code",
   "execution_count": null,
   "id": "be702a3f",
   "metadata": {},
   "outputs": [],
   "source": [
    "# Exemple d'afegir elements al set:\n",
    "my_set.add(6) \n",
    "my_set.add(3)"
   ]
  },
  {
   "cell_type": "code",
   "execution_count": null,
   "id": "8787155e",
   "metadata": {},
   "outputs": [],
   "source": [
    "# Els sets tampoc estan ordenats, de manera que no podem accedir als seus elements per índex."
   ]
  },
  {
   "cell_type": "code",
   "execution_count": null,
   "id": "380c6c0a",
   "metadata": {},
   "outputs": [],
   "source": [
    "# Exemple d'accés als elements del set:\n",
    "for element in my_set:\n",
    "    print(element)"
   ]
  },
  {
   "cell_type": "code",
   "execution_count": null,
   "id": "2fc2d2d3",
   "metadata": {},
   "outputs": [],
   "source": [
    "# Per eliminar un element d'un set, podem utilitzar el mètode `remove()` o `discard()`. La diferència és que `remove()` llançarà una excepció si l'element no existeix en el set, mentre que `discard()` no ho farà."
   ]
  },
  {
   "cell_type": "code",
   "execution_count": null,
   "id": "7e60292d",
   "metadata": {},
   "outputs": [],
   "source": [
    "# Exemple d'eliminar un element del set:\n",
    "my_set.remove(2) \n",
    "my_set.discard(10) "
   ]
  },
  {
   "cell_type": "code",
   "execution_count": null,
   "id": "745b063e",
   "metadata": {},
   "outputs": [],
   "source": [
    "# Podem utilitzar els operadors `union()`, `intersection()` i `difference()` per realitzar operacions entre sets."
   ]
  },
  {
   "cell_type": "code",
   "execution_count": null,
   "id": "990ba732",
   "metadata": {},
   "outputs": [],
   "source": [
    "# Exemple d'operacions entre sets:\n",
    "set1 = {1, 2, 3, 4, 5}\n",
    "set2 = {4, 5, 6, 7, 8}"
   ]
  },
  {
   "cell_type": "code",
   "execution_count": null,
   "id": "d5dd18ea",
   "metadata": {},
   "outputs": [],
   "source": [
    "union_set = set1.union(set2) \n",
    "intersection_set = set1.intersection(set2) \n",
    "difference_set = set1.difference(set2) "
   ]
  },
  {
   "cell_type": "code",
   "execution_count": null,
   "id": "4cc026ee",
   "metadata": {},
   "outputs": [],
   "source": [
    "# Els sets són útils per realitzar operacions matemàtiques com ara la unió, intersecció i diferència entre conjunts. També són eficients per verificar la pertinença d'un element en un conjunt i eliminar elements duplicats d'una llista o seqüència."
   ]
  },
  {
   "cell_type": "markdown",
   "id": "255fe281",
   "metadata": {},
   "source": [
    "## Mètodes dels Sets"
   ]
  },
  {
   "cell_type": "code",
   "execution_count": null,
   "id": "769bad22",
   "metadata": {},
   "outputs": [],
   "source": [
    "# Mètodes dels Sets"
   ]
  },
  {
   "cell_type": "code",
   "execution_count": null,
   "id": "05a41ed7",
   "metadata": {},
   "outputs": [],
   "source": [
    "# Creació d'un set buit\n",
    "my_set = set()"
   ]
  },
  {
   "cell_type": "code",
   "execution_count": null,
   "id": "a7520f53",
   "metadata": {},
   "outputs": [],
   "source": [
    "# Creació d'un set amb valors inicials\n",
    "my_set = {1, 2, 3}"
   ]
  },
  {
   "cell_type": "code",
   "execution_count": null,
   "id": "6b0c3d64",
   "metadata": {},
   "outputs": [],
   "source": [
    "# Afegir un element al set\n",
    "my_set.add(4)"
   ]
  },
  {
   "cell_type": "code",
   "execution_count": null,
   "id": "2782ada1",
   "metadata": {},
   "outputs": [],
   "source": [
    "# Afegir múltiples elements al set\n",
    "my_set.update([5, 6, 7])"
   ]
  },
  {
   "cell_type": "code",
   "execution_count": null,
   "id": "f45cc264",
   "metadata": {},
   "outputs": [],
   "source": [
    "# Eliminar un element del set\n",
    "my_set.remove(2)"
   ]
  },
  {
   "cell_type": "code",
   "execution_count": null,
   "id": "cf236e46",
   "metadata": {},
   "outputs": [],
   "source": [
    "# Comprovar si un element existeix en el set\n",
    "element_exists = 3 in my_set"
   ]
  },
  {
   "cell_type": "code",
   "execution_count": null,
   "id": "e2340bd6",
   "metadata": {},
   "outputs": [],
   "source": [
    "# Obtenir la longitud del set\n",
    "set_length = len(my_set)"
   ]
  },
  {
   "cell_type": "code",
   "execution_count": null,
   "id": "e3579e05",
   "metadata": {},
   "outputs": [],
   "source": [
    "# Unió de dos sets\n",
    "set1 = {1, 2, 3}\n",
    "set2 = {3, 4, 5}\n",
    "union_set = set1.union(set2)"
   ]
  },
  {
   "cell_type": "code",
   "execution_count": null,
   "id": "6974dbdc",
   "metadata": {},
   "outputs": [],
   "source": [
    "# Intersecció de dos sets\n",
    "intersection_set = set1.intersection(set2)"
   ]
  },
  {
   "cell_type": "code",
   "execution_count": null,
   "id": "ddd7e6a7",
   "metadata": {},
   "outputs": [],
   "source": [
    "# Diferència de dos sets\n",
    "difference_set = set1.difference(set2)"
   ]
  },
  {
   "cell_type": "code",
   "execution_count": null,
   "id": "0be9403c",
   "metadata": {},
   "outputs": [],
   "source": [
    "# Diferència simètrica de dos sets\n",
    "symmetric_difference_set = set1.symmetric_difference(set2)"
   ]
  },
  {
   "cell_type": "code",
   "execution_count": null,
   "id": "12020edc",
   "metadata": {},
   "outputs": [],
   "source": [
    "return my_set, element_exists, set_length, union_set, intersection_set, difference_set, symmetric_difference_set"
   ]
  },
  {
   "cell_type": "markdown",
   "id": "74628f3b",
   "metadata": {},
   "source": [
    "## Diferències entre Llistes, Tuples, Diccionaris i Sets"
   ]
  },
  {
   "cell_type": "code",
   "execution_count": null,
   "id": "c2491db0",
   "metadata": {},
   "outputs": [],
   "source": [
    "# Diferències entre Llistes, Tuples, Diccionaris i Sets"
   ]
  },
  {
   "cell_type": "code",
   "execution_count": null,
   "id": "8dcbb67f",
   "metadata": {},
   "outputs": [],
   "source": [
    "# Comparació de les característiques i ús de les llistes, tuples, diccionaris i sets."
   ]
  },
  {
   "cell_type": "code",
   "execution_count": null,
   "id": "7ab524b9",
   "metadata": {},
   "outputs": [],
   "source": [
    "# Llistes\n",
    "llista = [1, 2, 3, 4, 5]  # Exemple de llista\n",
    "llista.append(6)  # Afegir un element al final de la llista\n",
    "llista.remove(3)  # Eliminar un element de la llista\n",
    "llista  # Output: [1, 2, 4, 5, 6]"
   ]
  },
  {
   "cell_type": "code",
   "execution_count": null,
   "id": "b5a8b957",
   "metadata": {},
   "outputs": [],
   "source": [
    "# Tuples\n",
    "tupla = (1, 2, 3, 4, 5)  # Exemple de tupla\n",
    "tupla[0]  # Accedir a un element de la tupla (Output: 1)\n",
    "len(tupla)  # Nombre d'elements de la tupla (Output: 5)"
   ]
  },
  {
   "cell_type": "code",
   "execution_count": null,
   "id": "ed8a0d44",
   "metadata": {},
   "outputs": [],
   "source": [
    "# Diccionaris\n",
    "diccionari = {\"nom\": \"Maria\", \"edat\": 25, \"ciutat\": \"Barcelona\"}  # Exemple de diccionari\n",
    "diccionari[\"nom\"]  # Accedir a un valor del diccionari (Output: Maria)\n",
    "diccionari[\"professio\"] = \"Enginyera\"  # Afegir una nova clau-valor al diccionari\n",
    "del diccionari[\"edat\"]  # Eliminar una clau-valor del diccionari\n",
    "diccionari  # Output: {'nom': 'Maria', 'ciutat': 'Barcelona', 'professio': 'Enginyera'}"
   ]
  },
  {
   "cell_type": "code",
   "execution_count": null,
   "id": "4c1c7ff0",
   "metadata": {},
   "outputs": [],
   "source": [
    "# Sets\n",
    "conjunt = {1, 2, 3, 4, 5}  # Exemple de conjunt\n",
    "conjunt.add(6)  # Afegir un element al conjunt\n",
    "conjunt.remove(3)  # Eliminar un element del conjunt\n",
    "conjunt  # Output: {1, 2, 4, 5, 6}"
   ]
  }
 ],
 "metadata": {
  "kernelspec": {
   "display_name": "Python 3",
   "language": "python",
   "name": "python3"
  },
  "language_info": {
   "codemirror_mode": {
    "name": "ipython",
    "version": 3
   },
   "file_extension": ".py",
   "mimetype": "text/x-python",
   "name": "python",
   "nbconvert_exporter": "python",
   "pygments_lexer": "ipython3",
   "version": "3.11.5"
  }
 },
 "nbformat": 4,
 "nbformat_minor": 5
}
