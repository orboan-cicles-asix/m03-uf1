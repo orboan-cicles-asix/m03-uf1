{
 "cells": [
  {
   "cell_type": "markdown",
   "id": "63cacf4d",
   "metadata": {},
   "source": [
    "# Explaining Python Basic Data Structures"
   ]
  },
  {
   "cell_type": "markdown",
   "id": "1a56756f",
   "metadata": {},
   "source": [
    "## Introduction to lists, tuples, dictionaries and sets."
   ]
  },
  {
   "cell_type": "markdown",
   "id": "9853c49e-6940-4b09-b3c3-62379d202d60",
   "metadata": {},
   "source": [
    "## Llistes"
   ]
  },
  {
   "cell_type": "markdown",
   "id": "8381af15-3acc-4b86-8581-6a4ba8497350",
   "metadata": {},
   "source": [
    "Les llistes són una estructura de dades molt utilitzada a Python.  \n",
    "\n",
    "Les llistes són **mutables**.\n",
    "\n",
    "Les llistes poden contenir valors de diversos tipus de dades:"
   ]
  },
  {
   "cell_type": "code",
   "execution_count": 71,
   "id": "af18c34e-af98-49ed-9459-fcd209919de7",
   "metadata": {
    "execution": {
     "iopub.execute_input": "2023-10-06T09:17:51.949253Z",
     "iopub.status.busy": "2023-10-06T09:17:51.948579Z",
     "iopub.status.idle": "2023-10-06T09:17:51.957615Z",
     "shell.execute_reply": "2023-10-06T09:17:51.955891Z",
     "shell.execute_reply.started": "2023-10-06T09:17:51.949197Z"
    }
   },
   "outputs": [],
   "source": [
    "mixed_list = [42, \"banana\", 2.71, False, (\"a\", \"b\", \"c\")]"
   ]
  },
  {
   "cell_type": "markdown",
   "id": "bdd0bebc-d222-46de-b3d2-ef3f060b83d1",
   "metadata": {},
   "source": [
    "Les llistes poden contenir elements repetits.\n",
    "\n",
    "A continuació, anem a explorar els principals mètodes que es poden utilitzar amb les llistes."
   ]
  },
  {
   "cell_type": "code",
   "execution_count": 72,
   "id": "8973798b-4097-4c99-b2e5-45a9916a7297",
   "metadata": {
    "execution": {
     "iopub.execute_input": "2023-10-06T09:18:18.077193Z",
     "iopub.status.busy": "2023-10-06T09:18:18.076513Z",
     "iopub.status.idle": "2023-10-06T09:18:18.085628Z",
     "shell.execute_reply": "2023-10-06T09:18:18.083859Z",
     "shell.execute_reply.started": "2023-10-06T09:18:18.077135Z"
    }
   },
   "outputs": [],
   "source": [
    "# Creació d'una llista\n",
    "my_list = [1, 2, 3, 4, 5]"
   ]
  },
  {
   "cell_type": "code",
   "execution_count": 73,
   "id": "a6290465-4662-4c53-8bde-d45300e39851",
   "metadata": {
    "execution": {
     "iopub.execute_input": "2023-10-06T09:18:31.180482Z",
     "iopub.status.busy": "2023-10-06T09:18:31.179806Z",
     "iopub.status.idle": "2023-10-06T09:18:31.189459Z",
     "shell.execute_reply": "2023-10-06T09:18:31.187803Z",
     "shell.execute_reply.started": "2023-10-06T09:18:31.180426Z"
    }
   },
   "outputs": [
    {
     "name": "stdout",
     "output_type": "stream",
     "text": [
      "[1, 2, 3, 4, 5, 6]\n"
     ]
    }
   ],
   "source": [
    "# Mètode append()\n",
    "# Afegeix un element al final de la llista\n",
    "my_list.append(6) # [1, 2, 3, 4, 5, 6]\n",
    "print(my_list)"
   ]
  },
  {
   "cell_type": "code",
   "execution_count": 74,
   "id": "b144de12-942a-4d5a-b494-c31a62c09f2e",
   "metadata": {
    "execution": {
     "iopub.execute_input": "2023-10-06T09:18:41.708701Z",
     "iopub.status.busy": "2023-10-06T09:18:41.707878Z",
     "iopub.status.idle": "2023-10-06T09:18:41.717812Z",
     "shell.execute_reply": "2023-10-06T09:18:41.716194Z",
     "shell.execute_reply.started": "2023-10-06T09:18:41.708643Z"
    }
   },
   "outputs": [
    {
     "name": "stdout",
     "output_type": "stream",
     "text": [
      "[1, 2, 3, 7, 4, 5, 6]\n"
     ]
    }
   ],
   "source": [
    "# Mètode insert()\n",
    "# Afegeix un element en una posició específica de la llista\n",
    "my_list.insert(3, 7) # [1, 2, 3, 7, 4, 5, 6]\n",
    "print(my_list)"
   ]
  },
  {
   "cell_type": "code",
   "execution_count": 75,
   "id": "3343d38e-1ce7-4586-ac1e-80e21952aeb3",
   "metadata": {
    "execution": {
     "iopub.execute_input": "2023-10-06T09:18:54.132149Z",
     "iopub.status.busy": "2023-10-06T09:18:54.131475Z",
     "iopub.status.idle": "2023-10-06T09:18:54.141126Z",
     "shell.execute_reply": "2023-10-06T09:18:54.139474Z",
     "shell.execute_reply.started": "2023-10-06T09:18:54.132093Z"
    }
   },
   "outputs": [
    {
     "name": "stdout",
     "output_type": "stream",
     "text": [
      "[1, 2, 3, 7, 5, 6]\n"
     ]
    }
   ],
   "source": [
    "# Mètode remove()\n",
    "# Elimina la primera aparició d'un element en la llista\n",
    "my_list.remove(4) # [1, 2, 3, 7, 5, 6]\n",
    "print(my_list)"
   ]
  },
  {
   "cell_type": "code",
   "execution_count": 76,
   "id": "38c837ea-3a2c-46e7-8da6-353f72ab5955",
   "metadata": {
    "execution": {
     "iopub.execute_input": "2023-10-06T09:19:05.215969Z",
     "iopub.status.busy": "2023-10-06T09:19:05.215288Z",
     "iopub.status.idle": "2023-10-06T09:19:05.226170Z",
     "shell.execute_reply": "2023-10-06T09:19:05.224227Z",
     "shell.execute_reply.started": "2023-10-06T09:19:05.215912Z"
    }
   },
   "outputs": [
    {
     "name": "stdout",
     "output_type": "stream",
     "text": [
      "[1, 3, 7, 5, 6]\n",
      "2\n"
     ]
    }
   ],
   "source": [
    "# Mètode pop()\n",
    "# Elimina l'element en una posició específica de la llista i el retorna\n",
    "popped_element = my_list.pop(1) # [1, 3, 7, 5, 6], popped_element = 2\n",
    "print(my_list)\n",
    "print(popped_element)"
   ]
  },
  {
   "cell_type": "code",
   "execution_count": 77,
   "id": "49695f50-9c75-47a1-ad53-5328459f87e6",
   "metadata": {
    "execution": {
     "iopub.execute_input": "2023-10-06T09:19:17.043690Z",
     "iopub.status.busy": "2023-10-06T09:19:17.043023Z",
     "iopub.status.idle": "2023-10-06T09:19:17.053469Z",
     "shell.execute_reply": "2023-10-06T09:19:17.051422Z",
     "shell.execute_reply.started": "2023-10-06T09:19:17.043634Z"
    }
   },
   "outputs": [
    {
     "name": "stdout",
     "output_type": "stream",
     "text": [
      "[]\n"
     ]
    }
   ],
   "source": [
    "# Mètode clear()\n",
    "# Elimina tots els elements de la llista\n",
    "my_list.clear() # []\n",
    "print(my_list)"
   ]
  },
  {
   "cell_type": "code",
   "execution_count": 78,
   "id": "81cecd50-bdb1-46b4-a4ab-7697be13af6f",
   "metadata": {
    "execution": {
     "iopub.execute_input": "2023-10-06T09:19:28.859957Z",
     "iopub.status.busy": "2023-10-06T09:19:28.858109Z",
     "iopub.status.idle": "2023-10-06T09:19:28.869847Z",
     "shell.execute_reply": "2023-10-06T09:19:28.868083Z",
     "shell.execute_reply.started": "2023-10-06T09:19:28.859874Z"
    }
   },
   "outputs": [
    {
     "name": "stdout",
     "output_type": "stream",
     "text": [
      "2\n"
     ]
    }
   ],
   "source": [
    "# Mètode index()\n",
    "# Retorna la primera posició d'un element en la llista\n",
    "my_list = [1, 2, 3, 4, 5]\n",
    "index = my_list.index(3) # 2\n",
    "print(index)"
   ]
  },
  {
   "cell_type": "code",
   "execution_count": 79,
   "id": "3a202e28-98a0-45a2-bc99-206c461817d3",
   "metadata": {
    "execution": {
     "iopub.execute_input": "2023-10-06T09:19:39.842681Z",
     "iopub.status.busy": "2023-10-06T09:19:39.841958Z",
     "iopub.status.idle": "2023-10-06T09:19:39.852000Z",
     "shell.execute_reply": "2023-10-06T09:19:39.850345Z",
     "shell.execute_reply.started": "2023-10-06T09:19:39.842623Z"
    }
   },
   "outputs": [
    {
     "name": "stdout",
     "output_type": "stream",
     "text": [
      "1\n"
     ]
    }
   ],
   "source": [
    "# Mètode count()\n",
    "# Compta el nombre d'aparicions d'un element en la llista\n",
    "count = my_list.count(2) # 1\n",
    "print(count)"
   ]
  },
  {
   "cell_type": "code",
   "execution_count": 80,
   "id": "73f89e1b-5f05-476b-9e4b-0e7595b39782",
   "metadata": {
    "execution": {
     "iopub.execute_input": "2023-10-06T09:19:51.674659Z",
     "iopub.status.busy": "2023-10-06T09:19:51.673749Z",
     "iopub.status.idle": "2023-10-06T09:19:51.683635Z",
     "shell.execute_reply": "2023-10-06T09:19:51.681922Z",
     "shell.execute_reply.started": "2023-10-06T09:19:51.674600Z"
    }
   },
   "outputs": [
    {
     "name": "stdout",
     "output_type": "stream",
     "text": [
      "[1, 2, 3, 4, 5]\n"
     ]
    }
   ],
   "source": [
    "# Mètode sort()\n",
    "# Ordena la llista de forma ascendent\n",
    "my_list.sort() # [1, 2, 3, 4, 5]\n",
    "print(my_list)"
   ]
  },
  {
   "cell_type": "code",
   "execution_count": 81,
   "id": "aed7b76c-53c2-4f15-ad58-ca3f5c287d27",
   "metadata": {
    "execution": {
     "iopub.execute_input": "2023-10-06T09:20:07.945604Z",
     "iopub.status.busy": "2023-10-06T09:20:07.944934Z",
     "iopub.status.idle": "2023-10-06T09:20:07.954921Z",
     "shell.execute_reply": "2023-10-06T09:20:07.953183Z",
     "shell.execute_reply.started": "2023-10-06T09:20:07.945547Z"
    }
   },
   "outputs": [
    {
     "name": "stdout",
     "output_type": "stream",
     "text": [
      "[5, 4, 3, 2, 1]\n"
     ]
    }
   ],
   "source": [
    "# Mètode reverse()\n",
    "# Inverteix l'ordre dels elements de la llista\n",
    "my_list.reverse() # [5, 4, 3, 2, 1]\n",
    "print(my_list)"
   ]
  },
  {
   "cell_type": "markdown",
   "id": "1a189de8",
   "metadata": {},
   "source": [
    "## Tuples"
   ]
  },
  {
   "cell_type": "markdown",
   "id": "c42a7511-181e-4957-9145-c8eff60363ee",
   "metadata": {},
   "source": [
    "Les tuples són una estructura de dades en Python que ens permet emmagatzemar diversos elements. A diferència de les llistes, les tuples són immutables, és a dir, no podem modificar els seus elements un cop s'han creat."
   ]
  },
  {
   "cell_type": "markdown",
   "id": "11e700b3-43e9-495c-a82e-2b31a2b989d6",
   "metadata": {},
   "source": [
    "Per crear una tupla, utilitzem parèntesis () i separem els elements amb comes. Podem tenir tuples amb elements de diferents tipus de dades."
   ]
  },
  {
   "cell_type": "code",
   "execution_count": 64,
   "id": "796e7699-864a-4ad3-a583-2258fb207872",
   "metadata": {
    "execution": {
     "iopub.execute_input": "2023-10-06T08:59:52.164274Z",
     "iopub.status.busy": "2023-10-06T08:59:52.163605Z",
     "iopub.status.idle": "2023-10-06T08:59:52.182505Z",
     "shell.execute_reply": "2023-10-06T08:59:52.180955Z",
     "shell.execute_reply.started": "2023-10-06T08:59:52.164218Z"
    }
   },
   "outputs": [
    {
     "data": {
      "text/plain": [
       "tuple"
      ]
     },
     "execution_count": 64,
     "metadata": {},
     "output_type": "execute_result"
    }
   ],
   "source": [
    "my_tuple = (1, 2, 3, 4, 5)\n",
    "type(my_tuple)"
   ]
  },
  {
   "cell_type": "code",
   "execution_count": 89,
   "id": "8073944e-6d2b-489a-befc-75be0deb5278",
   "metadata": {
    "execution": {
     "iopub.execute_input": "2023-10-06T09:40:16.257352Z",
     "iopub.status.busy": "2023-10-06T09:40:16.256692Z",
     "iopub.status.idle": "2023-10-06T09:40:16.266439Z",
     "shell.execute_reply": "2023-10-06T09:40:16.264744Z",
     "shell.execute_reply.started": "2023-10-06T09:40:16.257297Z"
    }
   },
   "outputs": [
    {
     "name": "stdout",
     "output_type": "stream",
     "text": [
      "1\n",
      "3\n"
     ]
    }
   ],
   "source": [
    "# Podem accedir als elements d'una tupla utilitzant l'índex de l'element,\n",
    "# tal com ho faríem amb una llista.\n",
    "# Els índexs a Python comencen en 0.\n",
    "print(my_tuple[0])  # Output: 1\n",
    "print(my_tuple[2])  # Output: 3"
   ]
  },
  {
   "cell_type": "code",
   "execution_count": 66,
   "id": "d0584ed6-a06a-48d8-ae76-8b59e2ca1de1",
   "metadata": {
    "execution": {
     "iopub.execute_input": "2023-10-06T09:01:35.840690Z",
     "iopub.status.busy": "2023-10-06T09:01:35.840029Z",
     "iopub.status.idle": "2023-10-06T09:01:35.849534Z",
     "shell.execute_reply": "2023-10-06T09:01:35.847636Z",
     "shell.execute_reply.started": "2023-10-06T09:01:35.840633Z"
    }
   },
   "outputs": [],
   "source": [
    "# Una tupla també pot contenir diferents tipus d'elements.\n",
    "mixed_tuple = (1, \"dos\", True, 4.5)"
   ]
  },
  {
   "cell_type": "markdown",
   "id": "4910ea48-d1ba-45d8-8f78-f760fd0962f8",
   "metadata": {
    "execution": {
     "iopub.execute_input": "2023-10-06T08:18:43.233579Z",
     "iopub.status.busy": "2023-10-06T08:18:43.232895Z",
     "iopub.status.idle": "2023-10-06T08:18:43.245915Z",
     "shell.execute_reply": "2023-10-06T08:18:43.243578Z",
     "shell.execute_reply.started": "2023-10-06T08:18:43.233519Z"
    }
   },
   "source": [
    "A continuació, veurem alguns dels mètodes més comuns que podem utilitzar amb les tuples:"
   ]
  },
  {
   "cell_type": "markdown",
   "id": "30ffce1d-e83b-4fa2-8bfa-1a53f78d946a",
   "metadata": {
    "execution": {
     "iopub.execute_input": "2023-10-06T08:18:54.949398Z",
     "iopub.status.busy": "2023-10-06T08:18:54.948722Z",
     "iopub.status.idle": "2023-10-06T08:18:54.961416Z",
     "shell.execute_reply": "2023-10-06T08:18:54.959103Z",
     "shell.execute_reply.started": "2023-10-06T08:18:54.949339Z"
    }
   },
   "source": [
    "### count()\n",
    "El mètode count() ens permet contar quantes vegades apareix un element en una tupla. Retornarà el nombre de vegades que l'element especificat es troba a la tupla."
   ]
  },
  {
   "cell_type": "code",
   "execution_count": 6,
   "id": "48d1738a",
   "metadata": {
    "execution": {
     "iopub.execute_input": "2023-10-06T08:19:08.233449Z",
     "iopub.status.busy": "2023-10-06T08:19:08.232764Z",
     "iopub.status.idle": "2023-10-06T08:19:08.243700Z",
     "shell.execute_reply": "2023-10-06T08:19:08.242037Z",
     "shell.execute_reply.started": "2023-10-06T08:19:08.233392Z"
    }
   },
   "outputs": [
    {
     "name": "stdout",
     "output_type": "stream",
     "text": [
      "3\n"
     ]
    }
   ],
   "source": [
    "# Exemple d'ús del mètode count()\n",
    "tupla = (1, 2, 3, 2, 4, 2)\n",
    "comptador = tupla.count(2)\n",
    "print(comptador)  # Resultat: 3"
   ]
  },
  {
   "cell_type": "markdown",
   "id": "14169bb8-4073-4466-b9be-f8951f3c5069",
   "metadata": {},
   "source": [
    "### index()\n",
    "El mètode index() ens permet trobar la primera aparició d'un element en una tupla. Retornarà la posició (índex) de l'element especificat."
   ]
  },
  {
   "cell_type": "code",
   "execution_count": 7,
   "id": "391e3b94",
   "metadata": {
    "execution": {
     "iopub.execute_input": "2023-10-06T08:19:17.476580Z",
     "iopub.status.busy": "2023-10-06T08:19:17.475889Z",
     "iopub.status.idle": "2023-10-06T08:19:17.486269Z",
     "shell.execute_reply": "2023-10-06T08:19:17.484556Z",
     "shell.execute_reply.started": "2023-10-06T08:19:17.476521Z"
    }
   },
   "outputs": [
    {
     "name": "stdout",
     "output_type": "stream",
     "text": [
      "2\n"
     ]
    }
   ],
   "source": [
    "# Exemple d'ús del mètode index()\n",
    "tupla = (1, 2, 3, 2, 4, 2)\n",
    "index = tupla.index(3)\n",
    "print(index)  # Resultat: 2"
   ]
  },
  {
   "cell_type": "markdown",
   "id": "97ca3161-06b1-404e-98f8-ec63957d6333",
   "metadata": {},
   "source": [
    "### len()\n",
    "La funció len() ens permet obtenir la longitud (nombre d'elements) d'una tupla."
   ]
  },
  {
   "cell_type": "code",
   "execution_count": 8,
   "id": "e9e95985",
   "metadata": {
    "execution": {
     "iopub.execute_input": "2023-10-06T08:19:24.292561Z",
     "iopub.status.busy": "2023-10-06T08:19:24.291876Z",
     "iopub.status.idle": "2023-10-06T08:19:24.302132Z",
     "shell.execute_reply": "2023-10-06T08:19:24.300480Z",
     "shell.execute_reply.started": "2023-10-06T08:19:24.292499Z"
    }
   },
   "outputs": [
    {
     "name": "stdout",
     "output_type": "stream",
     "text": [
      "5\n"
     ]
    }
   ],
   "source": [
    "# Exemple d'ús de la funció len()\n",
    "tupla = (1, 2, 3, 4, 5)\n",
    "longitud = len(tupla)\n",
    "print(longitud)  # Resultat: 5"
   ]
  },
  {
   "cell_type": "markdown",
   "id": "f7b934ed-4e33-41a2-a661-9e542e36b071",
   "metadata": {},
   "source": [
    "### Operador d'indexació []\n",
    "Podem utilitzar l'operador d'indexació [] per accedir als elements d'una tupla mitjançant la seva posició (índex). Cal tenir en compte que els índexos comencen per 0."
   ]
  },
  {
   "cell_type": "code",
   "execution_count": 9,
   "id": "4e82d498",
   "metadata": {
    "execution": {
     "iopub.execute_input": "2023-10-06T08:36:51.873495Z",
     "iopub.status.busy": "2023-10-06T08:36:51.872821Z",
     "iopub.status.idle": "2023-10-06T08:36:51.883706Z",
     "shell.execute_reply": "2023-10-06T08:36:51.881876Z",
     "shell.execute_reply.started": "2023-10-06T08:36:51.873435Z"
    }
   },
   "outputs": [
    {
     "name": "stdout",
     "output_type": "stream",
     "text": [
      "3\n"
     ]
    }
   ],
   "source": [
    "# Exemple d'ús de l'operador d'indexació []\n",
    "tupla = (1, 2, 3, 4, 5)\n",
    "element = tupla[2]\n",
    "print(element)  # Resultat: 3"
   ]
  },
  {
   "cell_type": "markdown",
   "id": "fec5cc39-0dfa-4f3d-8578-02ba376a415a",
   "metadata": {},
   "source": [
    "### Operador de rebanada (slice) [:]\n",
    "L'operador de rebanada [:] ens permet obtenir una sub-tupla a partir d'una tupla original. Podem especificar els índexos inicial i final de la rebanada."
   ]
  },
  {
   "cell_type": "code",
   "execution_count": 10,
   "id": "6c127d2d",
   "metadata": {
    "execution": {
     "iopub.execute_input": "2023-10-06T08:37:10.600335Z",
     "iopub.status.busy": "2023-10-06T08:37:10.599660Z",
     "iopub.status.idle": "2023-10-06T08:37:10.611360Z",
     "shell.execute_reply": "2023-10-06T08:37:10.609551Z",
     "shell.execute_reply.started": "2023-10-06T08:37:10.600279Z"
    }
   },
   "outputs": [
    {
     "name": "stdout",
     "output_type": "stream",
     "text": [
      "(2, 3, 4)\n"
     ]
    }
   ],
   "source": [
    "# Exemple d'ús de l'operador de rebanada [:]\n",
    "tupla = (1, 2, 3, 4, 5)\n",
    "rebanada = tupla[1:4]\n",
    "print(rebanada)  # Resultat: (2, 3, 4)"
   ]
  },
  {
   "cell_type": "markdown",
   "id": "6aaaa227-5d37-4683-b1dd-98a1207328a7",
   "metadata": {},
   "source": [
    "Les tuples són útils quan volem emmagatzemar dades que no canviaran durant l'execució del nostre programa. També són més eficients en termes de memòria i velocitat d'accés als elements, en comparació amb les llistes."
   ]
  },
  {
   "cell_type": "code",
   "execution_count": 70,
   "id": "5f93e29a-bbbc-42d2-8432-1460a7eae11d",
   "metadata": {
    "execution": {
     "iopub.execute_input": "2023-10-06T09:08:56.655774Z",
     "iopub.status.busy": "2023-10-06T09:08:56.655269Z",
     "iopub.status.idle": "2023-10-06T09:08:56.687602Z",
     "shell.execute_reply": "2023-10-06T09:08:56.685567Z",
     "shell.execute_reply.started": "2023-10-06T09:08:56.655731Z"
    }
   },
   "outputs": [
    {
     "ename": "TypeError",
     "evalue": "'tuple' object does not support item assignment",
     "output_type": "error",
     "traceback": [
      "\u001b[0;31m---------------------------------------------------------------------------\u001b[0m",
      "\u001b[0;31mTypeError\u001b[0m                                 Traceback (most recent call last)",
      "Cell \u001b[0;32mIn[70], line 5\u001b[0m\n\u001b[1;32m      1\u001b[0m \u001b[38;5;66;03m# Les tuples són immutables, el que significa que no podem \u001b[39;00m\n\u001b[1;32m      2\u001b[0m \u001b[38;5;66;03m# canviar els seus elements després de la seva creació.\u001b[39;00m\n\u001b[1;32m      3\u001b[0m \u001b[38;5;66;03m# Per tant, qualsevol intent de canviar un element de la tupla \u001b[39;00m\n\u001b[1;32m      4\u001b[0m \u001b[38;5;66;03m# generarà un error.\u001b[39;00m\n\u001b[0;32m----> 5\u001b[0m \u001b[43mmy_tuple\u001b[49m\u001b[43m[\u001b[49m\u001b[38;5;241;43m0\u001b[39;49m\u001b[43m]\u001b[49m \u001b[38;5;241m=\u001b[39m \u001b[38;5;241m10\u001b[39m  \u001b[38;5;66;03m# Generarà un error\u001b[39;00m\n",
      "\u001b[0;31mTypeError\u001b[0m: 'tuple' object does not support item assignment"
     ]
    }
   ],
   "source": [
    "# Les tuples són immutables, el que significa que no podem \n",
    "# canviar els seus elements després de la seva creació.\n",
    "# Per tant, qualsevol intent de canviar un element de la tupla \n",
    "# generarà un error.\n",
    "my_tuple[0] = 10  # Generarà un error"
   ]
  },
  {
   "cell_type": "code",
   "execution_count": 69,
   "id": "485a5d0f-9c2c-4025-8241-2dc0374ff94d",
   "metadata": {
    "execution": {
     "iopub.execute_input": "2023-10-06T09:05:12.922392Z",
     "iopub.status.busy": "2023-10-06T09:05:12.921648Z",
     "iopub.status.idle": "2023-10-06T09:05:12.931532Z",
     "shell.execute_reply": "2023-10-06T09:05:12.929814Z",
     "shell.execute_reply.started": "2023-10-06T09:05:12.922333Z"
    }
   },
   "outputs": [
    {
     "name": "stdout",
     "output_type": "stream",
     "text": [
      "(1, 2, 3, 4, 5, 1, 'dos', True, 4.5)\n"
     ]
    }
   ],
   "source": [
    "# No obstant això, podem concatenar dues tuples per crear una nova tupla.\n",
    "new_tuple = my_tuple + mixed_tuple\n",
    "print(new_tuple)  # Output: (1, 2, 3, 4, 5, 1, \"dos\", True, 4.5)"
   ]
  },
  {
   "cell_type": "markdown",
   "id": "9d71ca73-5e09-4155-84cf-1be09b64f68a",
   "metadata": {},
   "source": [
    "> Les tuples són útils quan volem emmagatzemar una seqüència ordenada d'elements que no han de canviar."
   ]
  },
  {
   "cell_type": "markdown",
   "id": "b0edd0f0-d963-449c-a55c-eb6f75463daf",
   "metadata": {},
   "source": [
    "Com que les tuples són immutables, no hi ha mètodes per afegir, eliminar o canviar elements d'una tuple. Si es necessita realitzar aquestes operacions, s'ha de convertir la tuple en una llista, fer els canvis i després tornar-la a convertir en una tuple."
   ]
  },
  {
   "cell_type": "markdown",
   "id": "3a2f7327-1f78-496c-a550-8913ae996f5c",
   "metadata": {},
   "source": [
    "Ara que hem après els principals mètodes i operacions amb les tuples, podem utilitzar-les de manera efectiva en el nostre codi Python."
   ]
  },
  {
   "cell_type": "markdown",
   "id": "6ec77fa8",
   "metadata": {},
   "source": [
    "## Diccionaris"
   ]
  },
  {
   "cell_type": "markdown",
   "id": "657833da-1512-41f8-bfee-8b81ba72266f",
   "metadata": {},
   "source": [
    "Dictionaries in Python are collections of key-value pairs, where each key is associated with a unique value. The keys in a dictionary must be unique and immutable (such as tuples or strings), while the values can be of any type and can be mutable."
   ]
  },
  {
   "cell_type": "markdown",
   "id": "eee4f560-4971-42e2-8534-26b8a3a276e7",
   "metadata": {},
   "source": [
    "To declare a dictionary, we use the open and close brackets `{}` and separate the key-value pairs with colons `:`. Here is an example:"
   ]
  },
  {
   "cell_type": "code",
   "execution_count": 13,
   "id": "f1dc02ac",
   "metadata": {
    "execution": {
     "iopub.execute_input": "2023-10-06T08:38:45.023940Z",
     "iopub.status.busy": "2023-10-06T08:38:45.023258Z",
     "iopub.status.idle": "2023-10-06T08:38:45.031593Z",
     "shell.execute_reply": "2023-10-06T08:38:45.029929Z",
     "shell.execute_reply.started": "2023-10-06T08:38:45.023883Z"
    }
   },
   "outputs": [],
   "source": [
    "dictionary = {\"key1\": \"value1\", \"key2\": \"value2\", \"key3\": \"value3\"}"
   ]
  },
  {
   "cell_type": "markdown",
   "id": "dbb5b64b-8c31-4469-a787-1431e4bd8d6a",
   "metadata": {},
   "source": [
    "Dictionaries are very useful for storing and accessing data efficiently. We can access the values of a dictionary using its key as an index:"
   ]
  },
  {
   "cell_type": "code",
   "execution_count": 15,
   "id": "e07ba47f",
   "metadata": {
    "execution": {
     "iopub.execute_input": "2023-10-06T08:39:20.552628Z",
     "iopub.status.busy": "2023-10-06T08:39:20.551963Z",
     "iopub.status.idle": "2023-10-06T08:39:20.561297Z",
     "shell.execute_reply": "2023-10-06T08:39:20.559328Z",
     "shell.execute_reply.started": "2023-10-06T08:39:20.552570Z"
    }
   },
   "outputs": [],
   "source": [
    "value = dictionary[\"key1\"]"
   ]
  },
  {
   "cell_type": "markdown",
   "id": "f5e97e02-161c-4129-9243-1d41b396fcad",
   "metadata": {},
   "source": [
    "We can also add new key-value pairs to a dictionary using the same syntax:"
   ]
  },
  {
   "cell_type": "code",
   "execution_count": 17,
   "id": "b83acaaf",
   "metadata": {
    "execution": {
     "iopub.execute_input": "2023-10-06T08:39:51.037654Z",
     "iopub.status.busy": "2023-10-06T08:39:51.036987Z",
     "iopub.status.idle": "2023-10-06T08:39:51.046227Z",
     "shell.execute_reply": "2023-10-06T08:39:51.044204Z",
     "shell.execute_reply.started": "2023-10-06T08:39:51.037595Z"
    }
   },
   "outputs": [],
   "source": [
    "dictionary[\"new_key\"] = \"new_value\""
   ]
  },
  {
   "cell_type": "markdown",
   "id": "b88b6c35-3149-4f61-9931-c4255b4ad29e",
   "metadata": {},
   "source": [
    "Dictionaries have several useful methods for manipulating their data. Some of the most common methods are:"
   ]
  },
  {
   "cell_type": "markdown",
   "id": "46f11ffe-92a7-4605-ad87-349561e48ffa",
   "metadata": {},
   "source": [
    "- `keys()`: Returns a list of all the keys in the dictionary.\n",
    "- `values()`: Returns a list of all the values in the dictionary.\n",
    "- `items()`: Returns a list of tuples containing all the key-value pairs in the dictionary.\n",
    "- `get(key)`: Returns the value associated with the specified key. If the key does not exist, it returns a default value or `None`.\n",
    "- `pop(key)`: Removes the key-value pair associated with the specified key and returns the deleted value."
   ]
  },
  {
   "cell_type": "markdown",
   "id": "87a96908-41d1-4345-ab95-b468247437bf",
   "metadata": {},
   "source": [
    "Here are some examples of using dictionaries and their methods:"
   ]
  },
  {
   "cell_type": "code",
   "execution_count": 87,
   "id": "f5b0769f",
   "metadata": {
    "execution": {
     "iopub.execute_input": "2023-10-06T09:22:01.463268Z",
     "iopub.status.busy": "2023-10-06T09:22:01.462607Z",
     "iopub.status.idle": "2023-10-06T09:22:01.471442Z",
     "shell.execute_reply": "2023-10-06T09:22:01.469698Z",
     "shell.execute_reply.started": "2023-10-06T09:22:01.463212Z"
    }
   },
   "outputs": [],
   "source": [
    "# Example of declaring a dictionary\n",
    "dictionary = {\"name\": \"Maria\", \"age\": 25, \"city\": \"Barcelona\"}"
   ]
  },
  {
   "cell_type": "code",
   "execution_count": 20,
   "id": "9b075eb9",
   "metadata": {
    "execution": {
     "iopub.execute_input": "2023-10-06T08:40:30.377882Z",
     "iopub.status.busy": "2023-10-06T08:40:30.377184Z",
     "iopub.status.idle": "2023-10-06T08:40:30.386273Z",
     "shell.execute_reply": "2023-10-06T08:40:30.384584Z",
     "shell.execute_reply.started": "2023-10-06T08:40:30.377793Z"
    }
   },
   "outputs": [
    {
     "name": "stdout",
     "output_type": "stream",
     "text": [
      "Maria\n"
     ]
    }
   ],
   "source": [
    "# Accessing values using keys\n",
    "print(dictionary[\"name\"])  # Output: Maria"
   ]
  },
  {
   "cell_type": "code",
   "execution_count": 82,
   "id": "f89dd958",
   "metadata": {
    "execution": {
     "iopub.execute_input": "2023-10-06T09:20:52.034793Z",
     "iopub.status.busy": "2023-10-06T09:20:52.033963Z",
     "iopub.status.idle": "2023-10-06T09:20:52.045160Z",
     "shell.execute_reply": "2023-10-06T09:20:52.043409Z",
     "shell.execute_reply.started": "2023-10-06T09:20:52.034736Z"
    }
   },
   "outputs": [
    {
     "name": "stdout",
     "output_type": "stream",
     "text": [
      "{'name': 'Maria', 'age': 25, 'profession': 'Engineer'}\n"
     ]
    }
   ],
   "source": [
    "# Adding a new key-value pair\n",
    "dictionary[\"profession\"] = \"Engineer\"\n",
    "print(dictionary)  \n",
    "# Output: {\"name\": \"Maria\", \"age\": 25, \"city\": \"Barcelona\", \n",
    "# \"profession\": \"Engineer\"}"
   ]
  },
  {
   "cell_type": "code",
   "execution_count": 22,
   "id": "73bd66a5",
   "metadata": {
    "execution": {
     "iopub.execute_input": "2023-10-06T08:40:34.361891Z",
     "iopub.status.busy": "2023-10-06T08:40:34.361179Z",
     "iopub.status.idle": "2023-10-06T08:40:34.370664Z",
     "shell.execute_reply": "2023-10-06T08:40:34.368879Z",
     "shell.execute_reply.started": "2023-10-06T08:40:34.361794Z"
    }
   },
   "outputs": [
    {
     "name": "stdout",
     "output_type": "stream",
     "text": [
      "dict_keys(['name', 'age', 'city', 'profession'])\n"
     ]
    }
   ],
   "source": [
    "# Getting a list of all keys\n",
    "print(dictionary.keys())  # Output: [\"name\", \"age\", \"city\", \"profession\"]"
   ]
  },
  {
   "cell_type": "code",
   "execution_count": 23,
   "id": "09e58ea9",
   "metadata": {
    "execution": {
     "iopub.execute_input": "2023-10-06T08:40:38.545137Z",
     "iopub.status.busy": "2023-10-06T08:40:38.544629Z",
     "iopub.status.idle": "2023-10-06T08:40:38.552112Z",
     "shell.execute_reply": "2023-10-06T08:40:38.550895Z",
     "shell.execute_reply.started": "2023-10-06T08:40:38.545096Z"
    }
   },
   "outputs": [
    {
     "name": "stdout",
     "output_type": "stream",
     "text": [
      "dict_values(['Maria', 25, 'Barcelona', 'Engineer'])\n"
     ]
    }
   ],
   "source": [
    "# Getting a list of all values\n",
    "print(dictionary.values())  # Output: [\"Maria\", 25, \"Barcelona\", \"Engineer\"]"
   ]
  },
  {
   "cell_type": "code",
   "execution_count": 83,
   "id": "cffff4d2",
   "metadata": {
    "execution": {
     "iopub.execute_input": "2023-10-06T09:21:09.529012Z",
     "iopub.status.busy": "2023-10-06T09:21:09.528343Z",
     "iopub.status.idle": "2023-10-06T09:21:09.537674Z",
     "shell.execute_reply": "2023-10-06T09:21:09.535898Z",
     "shell.execute_reply.started": "2023-10-06T09:21:09.528953Z"
    }
   },
   "outputs": [
    {
     "name": "stdout",
     "output_type": "stream",
     "text": [
      "dict_items([('name', 'Maria'), ('age', 25), ('profession', 'Engineer')])\n"
     ]
    }
   ],
   "source": [
    "# Getting a list of tuples with all key-value pairs\n",
    "print(dictionary.items())  \n",
    "# Output: [(\"name\", \"Maria\"), (\"age\", 25), \n",
    "# (\"city\", \"Barcelona\"), (\"profession\", \"Engineer\")]"
   ]
  },
  {
   "cell_type": "code",
   "execution_count": 85,
   "id": "f6c84049",
   "metadata": {
    "execution": {
     "iopub.execute_input": "2023-10-06T09:21:32.910149Z",
     "iopub.status.busy": "2023-10-06T09:21:32.909427Z",
     "iopub.status.idle": "2023-10-06T09:21:32.919160Z",
     "shell.execute_reply": "2023-10-06T09:21:32.917349Z",
     "shell.execute_reply.started": "2023-10-06T09:21:32.910092Z"
    }
   },
   "outputs": [
    {
     "name": "stdout",
     "output_type": "stream",
     "text": [
      "25\n"
     ]
    }
   ],
   "source": [
    "# Getting a value using a key with get()\n",
    "print(dictionary.get(\"age\"))  # Output: 25"
   ]
  },
  {
   "cell_type": "code",
   "execution_count": 88,
   "id": "0202216f",
   "metadata": {
    "execution": {
     "iopub.execute_input": "2023-10-06T09:22:07.304329Z",
     "iopub.status.busy": "2023-10-06T09:22:07.303662Z",
     "iopub.status.idle": "2023-10-06T09:22:07.314644Z",
     "shell.execute_reply": "2023-10-06T09:22:07.312834Z",
     "shell.execute_reply.started": "2023-10-06T09:22:07.304273Z"
    }
   },
   "outputs": [
    {
     "name": "stdout",
     "output_type": "stream",
     "text": [
      "{'name': 'Maria', 'age': 25}\n",
      "Barcelona\n"
     ]
    }
   ],
   "source": [
    "# Removing a key-value pair using pop()\n",
    "deleted_value = dictionary.pop(\"city\")\n",
    "print(dictionary)  \n",
    "# Output: {\"name\": \"Maria\", \"age\": 25, \"profession\": \"Engineer\"}\n",
    "print(deleted_value)  # Output: Barcelona"
   ]
  },
  {
   "cell_type": "markdown",
   "id": "0cba816c-4f95-43d3-9130-a1da14cfe65d",
   "metadata": {},
   "source": [
    "Dictionaries are a powerful tool for managing data in Python and offer many features that can help us work more efficiently with data."
   ]
  },
  {
   "cell_type": "markdown",
   "id": "1127c52d",
   "metadata": {},
   "source": [
    "## Sets"
   ]
  },
  {
   "cell_type": "markdown",
   "id": "cdd4c9df-14de-4455-bbcb-6b4d30510a18",
   "metadata": {},
   "source": [
    "Els sets són col·leccions no ordenades d'elements únics. Això significa que un set no pot contenir elements repetits i no té un ordre específic. "
   ]
  },
  {
   "cell_type": "markdown",
   "id": "532a159a-f803-46bc-bb23-20edc5ed94cf",
   "metadata": {
    "execution": {
     "iopub.execute_input": "2023-10-06T08:41:09.273981Z",
     "iopub.status.busy": "2023-10-06T08:41:09.273287Z",
     "iopub.status.idle": "2023-10-06T08:41:09.281217Z",
     "shell.execute_reply": "2023-10-06T08:41:09.279575Z",
     "shell.execute_reply.started": "2023-10-06T08:41:09.273938Z"
    }
   },
   "source": [
    "### Creació d'un set"
   ]
  },
  {
   "cell_type": "markdown",
   "id": "ce77acba-88d2-48b9-b064-8611af0c7534",
   "metadata": {},
   "source": [
    "Per crear un set, podem utilitzar la funció `set()` o utilitzar els corxets `{}`."
   ]
  },
  {
   "cell_type": "code",
   "execution_count": 28,
   "id": "b5e74d3f",
   "metadata": {
    "execution": {
     "iopub.execute_input": "2023-10-06T08:41:18.273305Z",
     "iopub.status.busy": "2023-10-06T08:41:18.271476Z",
     "iopub.status.idle": "2023-10-06T08:41:18.281550Z",
     "shell.execute_reply": "2023-10-06T08:41:18.279672Z",
     "shell.execute_reply.started": "2023-10-06T08:41:18.273237Z"
    }
   },
   "outputs": [
    {
     "name": "stdout",
     "output_type": "stream",
     "text": [
      "set()\n"
     ]
    }
   ],
   "source": [
    "# Creació d'un set buit\n",
    "s = set()\n",
    "print(s)  # Output: set()"
   ]
  },
  {
   "cell_type": "code",
   "execution_count": 29,
   "id": "499363e7",
   "metadata": {
    "execution": {
     "iopub.execute_input": "2023-10-06T08:41:37.840774Z",
     "iopub.status.busy": "2023-10-06T08:41:37.840111Z",
     "iopub.status.idle": "2023-10-06T08:41:37.850108Z",
     "shell.execute_reply": "2023-10-06T08:41:37.848384Z",
     "shell.execute_reply.started": "2023-10-06T08:41:37.840719Z"
    }
   },
   "outputs": [
    {
     "name": "stdout",
     "output_type": "stream",
     "text": [
      "{1, 2, 3}\n"
     ]
    }
   ],
   "source": [
    "# Creació d'un set amb elements\n",
    "set1 = {1, 2, 3}\n",
    "print(set1)  # Output: {1, 2, 3}"
   ]
  },
  {
   "cell_type": "markdown",
   "id": "7f04a1fa-4acf-4d0c-ab77-40af6c67daa5",
   "metadata": {},
   "source": [
    "### Afegir elements a un set"
   ]
  },
  {
   "cell_type": "markdown",
   "id": "212dd6b5-0f64-4ea6-8c8f-5f7e56a98384",
   "metadata": {},
   "source": [
    "Per afegir elements a un set, podem utilitzar el mètode `add()`."
   ]
  },
  {
   "cell_type": "code",
   "execution_count": 30,
   "id": "6b397b29",
   "metadata": {
    "execution": {
     "iopub.execute_input": "2023-10-06T08:41:53.207623Z",
     "iopub.status.busy": "2023-10-06T08:41:53.206946Z",
     "iopub.status.idle": "2023-10-06T08:41:53.217227Z",
     "shell.execute_reply": "2023-10-06T08:41:53.215411Z",
     "shell.execute_reply.started": "2023-10-06T08:41:53.207566Z"
    }
   },
   "outputs": [
    {
     "name": "stdout",
     "output_type": "stream",
     "text": [
      "{1, 2, 3, 4}\n"
     ]
    }
   ],
   "source": [
    "set1 = {1, 2, 3}\n",
    "set1.add(4)\n",
    "print(set1)  # Output: {1, 2, 3, 4}"
   ]
  },
  {
   "cell_type": "markdown",
   "id": "71b62418-6b73-48a7-94f7-b62b9401768b",
   "metadata": {},
   "source": [
    "### Eliminar elements d'un set"
   ]
  },
  {
   "cell_type": "markdown",
   "id": "105cdad0-7294-4577-a803-70dc8e92cd25",
   "metadata": {},
   "source": [
    "Per eliminar un element d'un set, podem utilitzar el mètode `remove()` o `discard()`. La diferència és que `remove()` llançarà un error si l'element no es troba al set, mentre que `discard()` no llançarà cap error."
   ]
  },
  {
   "cell_type": "code",
   "execution_count": 31,
   "id": "f37cb62f",
   "metadata": {
    "execution": {
     "iopub.execute_input": "2023-10-06T08:42:03.199896Z",
     "iopub.status.busy": "2023-10-06T08:42:03.199230Z",
     "iopub.status.idle": "2023-10-06T08:42:03.209490Z",
     "shell.execute_reply": "2023-10-06T08:42:03.207667Z",
     "shell.execute_reply.started": "2023-10-06T08:42:03.199841Z"
    }
   },
   "outputs": [
    {
     "name": "stdout",
     "output_type": "stream",
     "text": [
      "{1, 2, 4}\n"
     ]
    }
   ],
   "source": [
    "set1 = {1, 2, 3, 4}\n",
    "set1.remove(3)\n",
    "print(set1)  # Output: {1, 2, 4}"
   ]
  },
  {
   "cell_type": "code",
   "execution_count": 32,
   "id": "220501e9",
   "metadata": {
    "execution": {
     "iopub.execute_input": "2023-10-06T08:42:04.294933Z",
     "iopub.status.busy": "2023-10-06T08:42:04.294300Z",
     "iopub.status.idle": "2023-10-06T08:42:04.303897Z",
     "shell.execute_reply": "2023-10-06T08:42:04.302234Z",
     "shell.execute_reply.started": "2023-10-06T08:42:04.294880Z"
    }
   },
   "outputs": [
    {
     "name": "stdout",
     "output_type": "stream",
     "text": [
      "{1, 4}\n"
     ]
    }
   ],
   "source": [
    "set1.discard(2)\n",
    "print(set1)  # Output: {1, 4}"
   ]
  },
  {
   "cell_type": "markdown",
   "id": "fbda9d77-a6b9-4de8-a1b5-0f08b54b25c7",
   "metadata": {},
   "source": [
    "### Unió de sets"
   ]
  },
  {
   "cell_type": "markdown",
   "id": "dacafc1d-4f33-4815-98b6-ad6972188119",
   "metadata": {},
   "source": [
    "Podem unir dos sets utilitzant l'operador `|` o utilitzant el mètode `union()`."
   ]
  },
  {
   "cell_type": "code",
   "execution_count": 33,
   "id": "ad53f4b3",
   "metadata": {
    "execution": {
     "iopub.execute_input": "2023-10-06T08:42:11.798833Z",
     "iopub.status.busy": "2023-10-06T08:42:11.798167Z",
     "iopub.status.idle": "2023-10-06T08:42:11.807049Z",
     "shell.execute_reply": "2023-10-06T08:42:11.805344Z",
     "shell.execute_reply.started": "2023-10-06T08:42:11.798775Z"
    }
   },
   "outputs": [],
   "source": [
    "set1 = {1, 2, 3}\n",
    "set2 = {3, 4, 5}"
   ]
  },
  {
   "cell_type": "code",
   "execution_count": 34,
   "id": "af5d09f8",
   "metadata": {
    "execution": {
     "iopub.execute_input": "2023-10-06T08:42:12.815114Z",
     "iopub.status.busy": "2023-10-06T08:42:12.814456Z",
     "iopub.status.idle": "2023-10-06T08:42:12.824059Z",
     "shell.execute_reply": "2023-10-06T08:42:12.822398Z",
     "shell.execute_reply.started": "2023-10-06T08:42:12.815055Z"
    }
   },
   "outputs": [
    {
     "name": "stdout",
     "output_type": "stream",
     "text": [
      "{1, 2, 3, 4, 5}\n"
     ]
    }
   ],
   "source": [
    "set3 = set1 | set2\n",
    "print(set3)  # Output: {1, 2, 3, 4, 5}"
   ]
  },
  {
   "cell_type": "code",
   "execution_count": 35,
   "id": "686c45fe",
   "metadata": {
    "execution": {
     "iopub.execute_input": "2023-10-06T08:42:13.694589Z",
     "iopub.status.busy": "2023-10-06T08:42:13.693760Z",
     "iopub.status.idle": "2023-10-06T08:42:13.703748Z",
     "shell.execute_reply": "2023-10-06T08:42:13.701949Z",
     "shell.execute_reply.started": "2023-10-06T08:42:13.694537Z"
    }
   },
   "outputs": [
    {
     "name": "stdout",
     "output_type": "stream",
     "text": [
      "{1, 2, 3, 4, 5}\n"
     ]
    }
   ],
   "source": [
    "set4 = set1.union(set2)\n",
    "print(set4)  # Output: {1, 2, 3, 4, 5}"
   ]
  },
  {
   "cell_type": "markdown",
   "id": "24ef47a3-c0e8-4043-a018-6c2dc2801b8b",
   "metadata": {},
   "source": [
    "### Intersecció de sets"
   ]
  },
  {
   "cell_type": "markdown",
   "id": "5061359d-b241-4b20-a3b7-95551f1c6a1c",
   "metadata": {},
   "source": [
    "Podem trobar la intersecció entre dos sets utilitzant l'operador `&` o utilitzant el mètode `intersection()`."
   ]
  },
  {
   "cell_type": "code",
   "execution_count": 36,
   "id": "87d14ea7",
   "metadata": {
    "execution": {
     "iopub.execute_input": "2023-10-06T08:42:32.158384Z",
     "iopub.status.busy": "2023-10-06T08:42:32.157645Z",
     "iopub.status.idle": "2023-10-06T08:42:32.166478Z",
     "shell.execute_reply": "2023-10-06T08:42:32.164768Z",
     "shell.execute_reply.started": "2023-10-06T08:42:32.158329Z"
    }
   },
   "outputs": [],
   "source": [
    "set1 = {1, 2, 3}\n",
    "set2 = {3, 4, 5}"
   ]
  },
  {
   "cell_type": "code",
   "execution_count": 37,
   "id": "87f2e817",
   "metadata": {
    "execution": {
     "iopub.execute_input": "2023-10-06T08:42:34.207538Z",
     "iopub.status.busy": "2023-10-06T08:42:34.205815Z",
     "iopub.status.idle": "2023-10-06T08:42:34.216369Z",
     "shell.execute_reply": "2023-10-06T08:42:34.214431Z",
     "shell.execute_reply.started": "2023-10-06T08:42:34.207469Z"
    }
   },
   "outputs": [
    {
     "name": "stdout",
     "output_type": "stream",
     "text": [
      "{3}\n"
     ]
    }
   ],
   "source": [
    "set3 = set1 & set2\n",
    "print(set3)  # Output: {3}"
   ]
  },
  {
   "cell_type": "code",
   "execution_count": 38,
   "id": "995a55d3",
   "metadata": {
    "execution": {
     "iopub.execute_input": "2023-10-06T08:42:39.175084Z",
     "iopub.status.busy": "2023-10-06T08:42:39.174419Z",
     "iopub.status.idle": "2023-10-06T08:42:39.184614Z",
     "shell.execute_reply": "2023-10-06T08:42:39.182831Z",
     "shell.execute_reply.started": "2023-10-06T08:42:39.175028Z"
    }
   },
   "outputs": [
    {
     "name": "stdout",
     "output_type": "stream",
     "text": [
      "{3}\n"
     ]
    }
   ],
   "source": [
    "set4 = set1.intersection(set2)\n",
    "print(set4)  # Output: {3}"
   ]
  },
  {
   "cell_type": "markdown",
   "id": "f2928be2-3b44-42ff-b91b-fff7a16486c7",
   "metadata": {},
   "source": [
    "### Diferència entre sets"
   ]
  },
  {
   "cell_type": "markdown",
   "id": "67e8fc51-acb3-440d-b999-7cc48cd951dc",
   "metadata": {},
   "source": [
    "Podem trobar la diferència entre dos sets utilitzant l'operador `-` o utilitzant el mètode `difference()`."
   ]
  },
  {
   "cell_type": "code",
   "execution_count": 39,
   "id": "22e3c86e",
   "metadata": {
    "execution": {
     "iopub.execute_input": "2023-10-06T08:42:44.038132Z",
     "iopub.status.busy": "2023-10-06T08:42:44.037381Z",
     "iopub.status.idle": "2023-10-06T08:42:44.046801Z",
     "shell.execute_reply": "2023-10-06T08:42:44.045022Z",
     "shell.execute_reply.started": "2023-10-06T08:42:44.038079Z"
    }
   },
   "outputs": [],
   "source": [
    "set1 = {1, 2, 3}\n",
    "set2 = {3, 4, 5}"
   ]
  },
  {
   "cell_type": "code",
   "execution_count": 40,
   "id": "ed4b9873",
   "metadata": {
    "execution": {
     "iopub.execute_input": "2023-10-06T08:42:44.630249Z",
     "iopub.status.busy": "2023-10-06T08:42:44.629596Z",
     "iopub.status.idle": "2023-10-06T08:42:44.640043Z",
     "shell.execute_reply": "2023-10-06T08:42:44.638102Z",
     "shell.execute_reply.started": "2023-10-06T08:42:44.630195Z"
    }
   },
   "outputs": [
    {
     "name": "stdout",
     "output_type": "stream",
     "text": [
      "{1, 2}\n"
     ]
    }
   ],
   "source": [
    "set3 = set1 - set2\n",
    "print(set3)  # Output: {1, 2}"
   ]
  },
  {
   "cell_type": "code",
   "execution_count": 41,
   "id": "03e7a729",
   "metadata": {
    "execution": {
     "iopub.execute_input": "2023-10-06T08:42:46.510236Z",
     "iopub.status.busy": "2023-10-06T08:42:46.509504Z",
     "iopub.status.idle": "2023-10-06T08:42:46.519499Z",
     "shell.execute_reply": "2023-10-06T08:42:46.517627Z",
     "shell.execute_reply.started": "2023-10-06T08:42:46.510178Z"
    }
   },
   "outputs": [
    {
     "name": "stdout",
     "output_type": "stream",
     "text": [
      "{1, 2}\n"
     ]
    }
   ],
   "source": [
    "set4 = set1.difference(set2)\n",
    "print(set4)  # Output: {1, 2}"
   ]
  },
  {
   "cell_type": "markdown",
   "id": "1632c071-a400-48ef-acd1-a4dacfe1c066",
   "metadata": {},
   "source": [
    "### Subset i Superset"
   ]
  },
  {
   "cell_type": "markdown",
   "id": "97e55360-4703-4134-8453-06240dc72130",
   "metadata": {},
   "source": [
    "Podem comprovar si un set és un subset o superset d'un altre set utilitzant els mètodes `issubset()` i `issuperset()`."
   ]
  },
  {
   "cell_type": "code",
   "execution_count": 42,
   "id": "3b2f476d",
   "metadata": {
    "execution": {
     "iopub.execute_input": "2023-10-06T08:42:52.831427Z",
     "iopub.status.busy": "2023-10-06T08:42:52.829713Z",
     "iopub.status.idle": "2023-10-06T08:42:52.839317Z",
     "shell.execute_reply": "2023-10-06T08:42:52.837523Z",
     "shell.execute_reply.started": "2023-10-06T08:42:52.831358Z"
    }
   },
   "outputs": [],
   "source": [
    "set1 = {1, 2, 3}\n",
    "set2 = {1, 2, 3, 4, 5}"
   ]
  },
  {
   "cell_type": "code",
   "execution_count": 43,
   "id": "9399b2c0",
   "metadata": {
    "execution": {
     "iopub.execute_input": "2023-10-06T08:42:53.509360Z",
     "iopub.status.busy": "2023-10-06T08:42:53.508788Z",
     "iopub.status.idle": "2023-10-06T08:42:53.518535Z",
     "shell.execute_reply": "2023-10-06T08:42:53.516760Z",
     "shell.execute_reply.started": "2023-10-06T08:42:53.509304Z"
    }
   },
   "outputs": [
    {
     "name": "stdout",
     "output_type": "stream",
     "text": [
      "True\n",
      "True\n"
     ]
    }
   ],
   "source": [
    "print(set1.issubset(set2))  # Output: True\n",
    "print(set2.issuperset(set1))  # Output: True"
   ]
  },
  {
   "cell_type": "markdown",
   "id": "b3bd8045",
   "metadata": {},
   "source": [
    "## Diferències entre les Estructures de Dades"
   ]
  },
  {
   "cell_type": "markdown",
   "id": "43de7313-549f-4735-92f3-55d9a71b04e9",
   "metadata": {},
   "source": [
    "## Llistes\n",
    "Les llistes en Python són col·leccions ordenades d'elements. Podem afegir, eliminar i modificar elements a les llistes. Una llista pot contenir elements de diferents tipus de dades, com ara números, cadenes de caràcters o fins i tot altres llistes."
   ]
  },
  {
   "cell_type": "code",
   "execution_count": 45,
   "id": "da44cb70-8c48-4603-87e1-b4e865d586e9",
   "metadata": {
    "execution": {
     "iopub.execute_input": "2023-10-06T08:44:30.908694Z",
     "iopub.status.busy": "2023-10-06T08:44:30.908031Z",
     "iopub.status.idle": "2023-10-06T08:44:30.916687Z",
     "shell.execute_reply": "2023-10-06T08:44:30.915042Z",
     "shell.execute_reply.started": "2023-10-06T08:44:30.908637Z"
    }
   },
   "outputs": [],
   "source": [
    "# Exemple de creació d'una llista\n",
    "llista = [1, 2, 3, 'a', 'b', 'c']"
   ]
  },
  {
   "cell_type": "code",
   "execution_count": 46,
   "id": "b608ecc9",
   "metadata": {
    "execution": {
     "iopub.execute_input": "2023-10-06T08:44:31.547222Z",
     "iopub.status.busy": "2023-10-06T08:44:31.546552Z",
     "iopub.status.idle": "2023-10-06T08:44:31.554739Z",
     "shell.execute_reply": "2023-10-06T08:44:31.553008Z",
     "shell.execute_reply.started": "2023-10-06T08:44:31.547165Z"
    }
   },
   "outputs": [],
   "source": [
    "# Exemple de modificació d'un element de la llista\n",
    "llista[0] = 4"
   ]
  },
  {
   "cell_type": "code",
   "execution_count": 47,
   "id": "bb05c78b",
   "metadata": {
    "execution": {
     "iopub.execute_input": "2023-10-06T08:44:32.666825Z",
     "iopub.status.busy": "2023-10-06T08:44:32.666177Z",
     "iopub.status.idle": "2023-10-06T08:44:32.674315Z",
     "shell.execute_reply": "2023-10-06T08:44:32.672498Z",
     "shell.execute_reply.started": "2023-10-06T08:44:32.666769Z"
    }
   },
   "outputs": [],
   "source": [
    "# Exemple d'afegir un element a la llista\n",
    "llista.append(5)"
   ]
  },
  {
   "cell_type": "code",
   "execution_count": 48,
   "id": "e6227adb",
   "metadata": {
    "execution": {
     "iopub.execute_input": "2023-10-06T08:44:33.610482Z",
     "iopub.status.busy": "2023-10-06T08:44:33.609768Z",
     "iopub.status.idle": "2023-10-06T08:44:33.618410Z",
     "shell.execute_reply": "2023-10-06T08:44:33.616366Z",
     "shell.execute_reply.started": "2023-10-06T08:44:33.610427Z"
    }
   },
   "outputs": [],
   "source": [
    "# Exemple d'eliminar un element de la llista\n",
    "del llista[2]"
   ]
  },
  {
   "cell_type": "markdown",
   "id": "632bbb53-e97e-42df-925b-422dcd645733",
   "metadata": {},
   "source": [
    "## Tuples\n",
    "Les tuples en Python són col·leccions ordenades d'elements, però a diferència de les llistes, no es poden modificar una vegada s'han creat. Això significa que les tuples són immutables."
   ]
  },
  {
   "cell_type": "code",
   "execution_count": 49,
   "id": "d83d7368",
   "metadata": {
    "execution": {
     "iopub.execute_input": "2023-10-06T08:44:39.330444Z",
     "iopub.status.busy": "2023-10-06T08:44:39.329701Z",
     "iopub.status.idle": "2023-10-06T08:44:39.338105Z",
     "shell.execute_reply": "2023-10-06T08:44:39.336370Z",
     "shell.execute_reply.started": "2023-10-06T08:44:39.330387Z"
    }
   },
   "outputs": [],
   "source": [
    "# Exemple de creació d'una tupla\n",
    "tupla = (1, 2, 3, 'a', 'b', 'c')"
   ]
  },
  {
   "cell_type": "code",
   "execution_count": 50,
   "id": "0c25a78b",
   "metadata": {
    "execution": {
     "iopub.execute_input": "2023-10-06T08:44:40.108072Z",
     "iopub.status.busy": "2023-10-06T08:44:40.107384Z",
     "iopub.status.idle": "2023-10-06T08:44:40.115746Z",
     "shell.execute_reply": "2023-10-06T08:44:40.114119Z",
     "shell.execute_reply.started": "2023-10-06T08:44:40.108014Z"
    }
   },
   "outputs": [],
   "source": [
    "# Exemple d'accés a un element de la tupla\n",
    "element = tupla[0]"
   ]
  },
  {
   "cell_type": "code",
   "execution_count": 51,
   "id": "8f3ebece",
   "metadata": {
    "execution": {
     "iopub.execute_input": "2023-10-06T08:44:40.698566Z",
     "iopub.status.busy": "2023-10-06T08:44:40.697713Z",
     "iopub.status.idle": "2023-10-06T08:44:40.706409Z",
     "shell.execute_reply": "2023-10-06T08:44:40.704736Z",
     "shell.execute_reply.started": "2023-10-06T08:44:40.698510Z"
    }
   },
   "outputs": [],
   "source": [
    "# Exemple de concatenació de tuples\n",
    "tupla2 = (4, 5, 6)\n",
    "tupla3 = tupla + tupla2"
   ]
  },
  {
   "cell_type": "markdown",
   "id": "54efa9f4-745e-4e0d-9ea1-475b2c527beb",
   "metadata": {},
   "source": [
    "## Diccionaris\n",
    "Els diccionaris en Python són col·leccions no ordenades de parells clau-valor. Cada element d'un diccionari té una clau única associada amb un valor. Podem accedir, afegir i eliminar elements d'un diccionari mitjançant les seves claus."
   ]
  },
  {
   "cell_type": "code",
   "execution_count": 52,
   "id": "e6175b9d",
   "metadata": {
    "execution": {
     "iopub.execute_input": "2023-10-06T08:44:45.882703Z",
     "iopub.status.busy": "2023-10-06T08:44:45.882040Z",
     "iopub.status.idle": "2023-10-06T08:44:45.890565Z",
     "shell.execute_reply": "2023-10-06T08:44:45.888760Z",
     "shell.execute_reply.started": "2023-10-06T08:44:45.882648Z"
    }
   },
   "outputs": [],
   "source": [
    "# Exemple de creació d'un diccionari\n",
    "diccionari = {'clau1': 'valor1', 'clau2': 'valor2', 'clau3': 'valor3'}"
   ]
  },
  {
   "cell_type": "code",
   "execution_count": 53,
   "id": "ff1a78b3",
   "metadata": {
    "execution": {
     "iopub.execute_input": "2023-10-06T08:44:46.602559Z",
     "iopub.status.busy": "2023-10-06T08:44:46.601937Z",
     "iopub.status.idle": "2023-10-06T08:44:46.610015Z",
     "shell.execute_reply": "2023-10-06T08:44:46.608340Z",
     "shell.execute_reply.started": "2023-10-06T08:44:46.602505Z"
    }
   },
   "outputs": [],
   "source": [
    "# Exemple d'accés a un valor d'un diccionari\n",
    "valor = diccionari['clau1']"
   ]
  },
  {
   "cell_type": "code",
   "execution_count": 54,
   "id": "c7da0295",
   "metadata": {
    "execution": {
     "iopub.execute_input": "2023-10-06T08:44:47.363184Z",
     "iopub.status.busy": "2023-10-06T08:44:47.362514Z",
     "iopub.status.idle": "2023-10-06T08:44:47.370850Z",
     "shell.execute_reply": "2023-10-06T08:44:47.369167Z",
     "shell.execute_reply.started": "2023-10-06T08:44:47.363128Z"
    }
   },
   "outputs": [],
   "source": [
    "# Exemple d'afegir un element a un diccionari\n",
    "diccionari['clau4'] = 'valor4'"
   ]
  },
  {
   "cell_type": "code",
   "execution_count": 55,
   "id": "0c0cea1e",
   "metadata": {
    "execution": {
     "iopub.execute_input": "2023-10-06T08:44:48.066433Z",
     "iopub.status.busy": "2023-10-06T08:44:48.065470Z",
     "iopub.status.idle": "2023-10-06T08:44:48.074708Z",
     "shell.execute_reply": "2023-10-06T08:44:48.072542Z",
     "shell.execute_reply.started": "2023-10-06T08:44:48.066375Z"
    }
   },
   "outputs": [],
   "source": [
    "# Exemple d'eliminar un element d'un diccionari\n",
    "del diccionari['clau2']"
   ]
  },
  {
   "cell_type": "markdown",
   "id": "b3e414de-3d42-43e6-9d33-317eaa64212b",
   "metadata": {},
   "source": [
    "## Sets\n",
    "Els sets en Python són col·leccions no ordenades d'elements únics. No es permeten elements duplicats en un set. Podem afegir i eliminar elements d'un set, així com realitzar operacions comunes com la unió, la intersecció i la diferència entre sets."
   ]
  },
  {
   "cell_type": "code",
   "execution_count": 56,
   "id": "865c7576",
   "metadata": {
    "execution": {
     "iopub.execute_input": "2023-10-06T08:44:57.522656Z",
     "iopub.status.busy": "2023-10-06T08:44:57.521989Z",
     "iopub.status.idle": "2023-10-06T08:44:57.530758Z",
     "shell.execute_reply": "2023-10-06T08:44:57.528984Z",
     "shell.execute_reply.started": "2023-10-06T08:44:57.522600Z"
    }
   },
   "outputs": [],
   "source": [
    "# Exemple de creació d'un set\n",
    "conjunt = {1, 2, 3, 'a', 'b', 'c'}"
   ]
  },
  {
   "cell_type": "code",
   "execution_count": 57,
   "id": "6c9a7645",
   "metadata": {
    "execution": {
     "iopub.execute_input": "2023-10-06T08:44:58.170554Z",
     "iopub.status.busy": "2023-10-06T08:44:58.169847Z",
     "iopub.status.idle": "2023-10-06T08:44:58.178183Z",
     "shell.execute_reply": "2023-10-06T08:44:58.176220Z",
     "shell.execute_reply.started": "2023-10-06T08:44:58.170499Z"
    }
   },
   "outputs": [],
   "source": [
    "# Exemple d'afegir un element a un set\n",
    "conjunt.add(4)"
   ]
  },
  {
   "cell_type": "code",
   "execution_count": 58,
   "id": "9e36c025",
   "metadata": {
    "execution": {
     "iopub.execute_input": "2023-10-06T08:44:58.930445Z",
     "iopub.status.busy": "2023-10-06T08:44:58.929644Z",
     "iopub.status.idle": "2023-10-06T08:44:58.938193Z",
     "shell.execute_reply": "2023-10-06T08:44:58.936479Z",
     "shell.execute_reply.started": "2023-10-06T08:44:58.930387Z"
    }
   },
   "outputs": [],
   "source": [
    "# Exemple d'eliminar un element d'un set\n",
    "conjunt.remove('a')"
   ]
  },
  {
   "cell_type": "code",
   "execution_count": 59,
   "id": "020dc78d",
   "metadata": {
    "execution": {
     "iopub.execute_input": "2023-10-06T08:44:59.417550Z",
     "iopub.status.busy": "2023-10-06T08:44:59.416843Z",
     "iopub.status.idle": "2023-10-06T08:44:59.425333Z",
     "shell.execute_reply": "2023-10-06T08:44:59.423722Z",
     "shell.execute_reply.started": "2023-10-06T08:44:59.417497Z"
    }
   },
   "outputs": [],
   "source": [
    "# Exemple d'unions entre sets\n",
    "conjunt2 = {3, 4, 5}\n",
    "unio = conjunt.union(conjunt2)"
   ]
  },
  {
   "cell_type": "code",
   "execution_count": 60,
   "id": "f9e9951f",
   "metadata": {
    "execution": {
     "iopub.execute_input": "2023-10-06T08:45:00.146349Z",
     "iopub.status.busy": "2023-10-06T08:45:00.145599Z",
     "iopub.status.idle": "2023-10-06T08:45:00.154878Z",
     "shell.execute_reply": "2023-10-06T08:45:00.152791Z",
     "shell.execute_reply.started": "2023-10-06T08:45:00.146292Z"
    }
   },
   "outputs": [],
   "source": [
    "# Exemple d'intersecció entre sets\n",
    "interseccio = conjunt.intersection(conjunt2)"
   ]
  },
  {
   "cell_type": "code",
   "execution_count": 61,
   "id": "dc16888c",
   "metadata": {
    "execution": {
     "iopub.execute_input": "2023-10-06T08:45:00.794401Z",
     "iopub.status.busy": "2023-10-06T08:45:00.793590Z",
     "iopub.status.idle": "2023-10-06T08:45:00.800206Z",
     "shell.execute_reply": "2023-10-06T08:45:00.798951Z",
     "shell.execute_reply.started": "2023-10-06T08:45:00.794358Z"
    }
   },
   "outputs": [],
   "source": [
    "# Exemple de diferència entre sets\n",
    "diferencia = conjunt.difference(conjunt2)"
   ]
  },
  {
   "cell_type": "code",
   "execution_count": null,
   "id": "80141213-3c64-43cc-a426-ed6ae7eaf26e",
   "metadata": {},
   "outputs": [],
   "source": []
  }
 ],
 "metadata": {
  "kernelspec": {
   "display_name": "Python 3",
   "language": "python",
   "name": "python3"
  },
  "language_info": {
   "codemirror_mode": {
    "name": "ipython",
    "version": 3
   },
   "file_extension": ".py",
   "mimetype": "text/x-python",
   "name": "python",
   "nbconvert_exporter": "python",
   "pygments_lexer": "ipython3",
   "version": "3.11.5"
  }
 },
 "nbformat": 4,
 "nbformat_minor": 5
}
